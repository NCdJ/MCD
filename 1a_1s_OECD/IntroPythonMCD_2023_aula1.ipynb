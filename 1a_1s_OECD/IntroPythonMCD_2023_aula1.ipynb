{
 "cells": [
  {
   "cell_type": "markdown",
   "metadata": {},
   "source": [
    "<font size=\"5\">\n",
    " <div class=\"alert alert-block alert-info\"> <b>Módulo introdutório de Python - Aula 1<b>\n",
    "     </div>\n",
    "</font> \n",
    " \n",
    " \\vspace{.1in}\n",
    "     \n",
    "    \n",
    "  <font size=\"4\"> Mestrado em Ciência de Dados </font>\n",
    "  \\vspace{.03in}\n",
    "  \n",
    "  \n",
    "  <font size=\"3\"> **Diana Aldea Mendes** </font>\n",
    "     \\vspace{.02in}\n",
    "  <font size=\"3\">ISCTE-IUL, 5-9 de setembro de 2023 </font>\n",
    "  \\vspace{.03in}\n",
    "  \n",
    "   \n",
    "  <font size=\"3\"> *diana.mendes@iscte-iul.pt* </font> \n",
    "  \\vspace{.03in}\n",
    "  \n",
    "    \n",
    " \n"
   ]
  },
  {
   "cell_type": "markdown",
   "metadata": {},
   "source": [
    "<font size=\"4\">\n",
    " <div class=\"alert alert-success\">\n",
    "    <b> Bibliografia</b> \n",
    " </div>\n",
    "</font> \n",
    "\n",
    "1. Paul Deitel, Harvey Deitel, (2020), Intro to Python for Computer Science and Data Science: Learning to Program with AI, Big Data and the Cloud, Pearson Education, Inc.\n",
    "2. Al Sweigart, (2020), Automate the boring stuff with Python: Practical Programming for Beginners (2nd Edition), No Starch Press, Inc.\n",
    "3. Tony Gaddis, (2022), Starting Out with Python, (5th Ed.), Pearson.\n"
   ]
  },
  {
   "cell_type": "markdown",
   "metadata": {},
   "source": [
    " <font size=\"5\"> \n",
    "    <div class=\"alert alert-warning\" role=\"alert\"> Tópicos do dia </div> </font> \n",
    "  \\vspace{.03in}\n",
    "  \n",
    " - Como Instalar Python?\n",
    " - Qual é o melhor ambiente de trabalho (IDE /code editor)?\n",
    "     - VS Code, Jupyter Notebook, PyCharm, Google Colab\n",
    " - Introdução ao Python \n",
    "     - Variáveis\n",
    "     - Operações\n",
    "  \n",
    "  ###############################################################################"
   ]
  },
  {
   "cell_type": "markdown",
   "metadata": {},
   "source": [
    "# Introdução\n",
    "\n",
    "- **Python** é uma linguagem de programção simples e versátil (*open-source, high-level, multi-paradigm*)\n",
    "- Cada vez mais utilizada no ensino, investigação, banco, saúde, indústria, etc.\n",
    "- **Anaconda** é o distribuídor mais popular do Python. \n",
    "- A instalação via **Anaconda** contém os seguintes: o *Python, Spyder, Orange, Qt Console, Anaconda Prompt, Jupyter Notebook, Visual Studio Code*, etc\n",
    "- O terminal de Anacando permite correr o Python diretamente.\n",
    "- Também permite instalar novas bibliotecas (packages) que não estão disponíveis em Anaconda por default. \n",
    "- Para instalar novas bibliotecas, usa-se a função `pip` (Python package manager)\n",
    "\n"
   ]
  },
  {
   "cell_type": "markdown",
   "metadata": {},
   "source": [
    "\n",
    "- O **IPython** (**Jupyter Notebook**) é um ambiente interactivo para a utilização da linguagem Python como ferramenta de cálculo, visualização, e elaboração de programas (pequenos).\n",
    "- Para abrir o Jupyter Notebook\n",
    "    - Abrir Anaconda Navigator\n",
    "    - Launch Jupyter Notebook\n",
    "- Os ficheiros (em Jupyter) tem a extensão `.ipynb` e chamam-se *Notebooks*\n",
    "- No Jupyter Notebook, a interacção faz-se através de um interface muito simples suportado por um **browser**, que por sua vez comunica com um **kernel** que disponibiliza um interpretador de Python. \n",
    "\n",
    "- No contexto da programação de maior escala usamos o ambiente **Spyder** (IDE - Integrated Development Environment). \n",
    "- Os ficheiros (em Spyder) chamam-se *scripts* e tem a extensão `.py`\n",
    "\n"
   ]
  },
  {
   "cell_type": "markdown",
   "metadata": {},
   "source": [
    "**Módulos/Bibliotecas/*Libraries/Packages* de base:**\n",
    "\n",
    "* numpy/scipy (contas básicas, vetores, arrays)\n",
    "* statmodels (estatística)\n",
    "* pandas (Data frames, manipulação de dados)\n",
    "* prophet (forecasting - previsão de séries temporais)\n",
    "* scikit-learn (ML - Machine Learning, Regressão, clustering - nível básico e intermédio)\n",
    "* matplotlib (representações gráficas)\n",
    "* seaborn (representações gráficas)\n",
    "* keras/tensorflow (Machine Learning, Deep Learning, Text mining, Reinforcement learning - nível avançado)\n",
    "* PyTorch (Machine Learning)\n",
    "* Beautiful Soup (web scraping)  \n",
    "\n",
    "- Os módulos são bibliotecas de código. Podem ser usados recorrendo ao comando ``import``\n",
    "- Por exemplo, inserindo ``import numpy``, o Python recebe a informação que a biblioteca `numpy` vai ser usada.\n",
    "\n",
    "\n",
    "\n",
    "- Abreviação padrão usada para bibliotecas (Canonical names)\n",
    "\n",
    "- Use a palavra chave `as` para importar a biblioteca com a sua abreviação padrão\n",
    "- Para importar uma biblioteca, deve escrever o seguinte ``import`` _nome_biblioteca_ ``as`` _abreviação_\n",
    "\n",
    "| Module              | Canonical Name |\n",
    "| :------------------ | :------------- |\n",
    "| numpy               | np             |\n",
    "| pandas              | pd             |\n",
    "| scipy               | sp             |\n",
    "| scipy.stats         | stats          |\n",
    "| matplotlib.pyplot   | plt            |\n",
    "| statsmodels.api     | sm             |\n",
    "| statsmodels.tsa.api | tsa            |\n",
    "\n"
   ]
  },
  {
   "cell_type": "markdown",
   "metadata": {},
   "source": [
    "## Conceitos básicos"
   ]
  },
  {
   "cell_type": "markdown",
   "metadata": {},
   "source": [
    "- Cada retângulo/caixa onde escrevemos o nosso input (que podem ser linhas de código ou texto) no Jupyter Notebook chama-se **cell/célula**.\n",
    "\n",
    "- No *Menu* se escolhemos **Markdown**, então vamos inserir na célula texto normal (em Português/Inglês) ou fórmulas matemáticas em LaTeX (*é a opção usada nesta célula*).\n",
    "\n",
    "- No *Menu* se escolhemos **Code**, então vamos inserir na célula comandos na linguagem Python.\n",
    "\n",
    "- Para executar/correr o conteúdo de uma célula, basta carregar no **Run**, no Menu. O output aparece na linha seguinte.\n",
    "\n",
    "- De forma equivalente, carregando **Shift+Enter**, vamos correr a célula corrente\n",
    "- O python contem milhares de **funções pré-definidas** (blocos de códigos construídos com um objetivo, que são chamados para executar o tal objetivo, pelo intermédio de um nome chave/simbólico), para simplificar e tornar mais eficiente o nosso trabalho.\n",
    "\n",
    "- Uma das funções pré-definidas de Python mais importantes e úteis é a função **print()**. \n",
    "- Serve para mostrar no output o conteúdo da informação definida em ().\n",
    "- Para pedir **ajuda/informação** acerca as funções pré-definidas (built-in functions) em Python, usar: ``help(nome_função)`` ou ``nome_função?`` \n",
    "- Por exemplo: ``help(len)`` vai fornecer informações sobre a função `` len`` (comprimento de um objeto)\n",
    "- **Tab-completion**: para obter todos os atributos de um certo objeto (por exemplo o que posso fazer com uma lista?)\n",
    "- Basta escrever o nome do objeto. e carregar na tecla TAB: ``nome_do_objeto.<TAB>``\n"
   ]
  },
  {
   "cell_type": "markdown",
   "metadata": {},
   "source": [
    "### Inserir Comentários"
   ]
  },
  {
   "cell_type": "code",
   "execution_count": 4,
   "metadata": {
    "ExecuteTime": {
     "end_time": "2023-09-02T18:53:15.810583Z",
     "start_time": "2023-09-02T18:53:15.791494Z"
    }
   },
   "outputs": [],
   "source": [
    "# os comentários começam com '#'\n",
    "# os comentários não são executáveis (não tem output) \n",
    "# isto é um comentário"
   ]
  },
  {
   "cell_type": "code",
   "execution_count": 3,
   "metadata": {
    "ExecuteTime": {
     "end_time": "2023-09-02T18:53:16.280426Z",
     "start_time": "2023-09-02T18:53:16.270323Z"
    }
   },
   "outputs": [
    {
     "data": {
      "text/plain": [
       "' Explicação de como aprendemos Python'"
      ]
     },
     "execution_count": 3,
     "metadata": {},
     "output_type": "execute_result"
    }
   ],
   "source": [
    "# informações/explicações sobre os comandos Python que podem ser visualizados no output apresentam-se \n",
    "# entre aspas triplas ''' '''\n",
    "''' Explicação de como aprendemos Python'''"
   ]
  },
  {
   "cell_type": "markdown",
   "metadata": {},
   "source": [
    "### Inserir texto e fórmulas"
   ]
  },
  {
   "cell_type": "markdown",
   "metadata": {},
   "source": [
    "#########################################################################################\n",
    "\n",
    "Exemplo de fórmulas matemáticas, usando LaTeX (editor de texto mais usado ao nível mundial)\n",
    "\n",
    "Agora escrevo uma equação $\\LaTeX$ inline : $x = Ax+b^2$\n",
    "\n",
    "E agora uma equação numa linha nova, centrada no meio da página: $$x = Ax + b$$\n",
    "\n",
    "##########################################################################################\n",
    "\n",
    "- Portanto, no mesmo ficheiro (Notebook) podemos ter texto, fórmulas, linhas de comandos, tabela, gráficos, simulações, etc, o que torna o Jupyter Notebook extremamente versátil. \n",
    "- Mais, podemos definir vários *kernels* (núcleos), um para cada linguagem de programação: Python, R, Julia, Matlab, etc..."
   ]
  },
  {
   "cell_type": "markdown",
   "metadata": {},
   "source": [
    "### Versão Python"
   ]
  },
  {
   "cell_type": "code",
   "execution_count": 6,
   "metadata": {
    "ExecuteTime": {
     "end_time": "2023-09-02T18:54:58.873181Z",
     "start_time": "2023-09-02T18:54:58.855181Z"
    }
   },
   "outputs": [
    {
     "name": "stdout",
     "output_type": "stream",
     "text": [
      "O meu Python tem a versão 3.11.4 (tags/v3.11.4:d2340ef, Jun  7 2023, 05:45:37) [MSC v.1934 64 bit (AMD64)]\n",
      "Copyright (c) 2001-2023 Python Software Foundation.\n",
      "All Rights Reserved.\n",
      "\n",
      "Copyright (c) 2000 BeOpen.com.\n",
      "All Rights Reserved.\n",
      "\n",
      "Copyright (c) 1995-2001 Corporation for National Research Initiatives.\n",
      "All Rights Reserved.\n",
      "\n",
      "Copyright (c) 1991-1995 Stichting Mathematisch Centrum, Amsterdam.\n",
      "All Rights Reserved.\n"
     ]
    }
   ],
   "source": [
    "# vamos ver qual versão de Python está instalada no nosso computador\n",
    "import sys\n",
    "print (\"O meu Python tem a versão\", sys.version)\n",
    "\n",
    "print(sys.copyright)"
   ]
  },
  {
   "cell_type": "markdown",
   "metadata": {},
   "source": [
    "#  Tipos de Dados / Estruturas de dados/ Objetos / Variáveis\n",
    "\n",
    "- Números inteiros, reais, complexos\n",
    "- Booleanos\n",
    "- Sequências (strings), texto e imagens\n",
    "- Vetores, Listas, Dicionários, Tuples, Conjuntos\n",
    "\n"
   ]
  },
  {
   "cell_type": "markdown",
   "metadata": {},
   "source": [
    "## Números reais e operações\n",
    "\n",
    "Temos as seguintes operações\n",
    "\n",
    "| Operação | Descrição |\n",
    "| :------: | :---------: |\n",
    "| +        |Adição|\n",
    "| -        |Subtração|\n",
    "| *        |Multiplicação|\n",
    "| /        |Divisão|\n",
    "| %        |Módulo / resto|\n",
    "| **       |Expoente/Potência|\n",
    "| //       |Divisão inteira|\n",
    "\n"
   ]
  },
  {
   "cell_type": "code",
   "execution_count": 2,
   "metadata": {
    "ExecuteTime": {
     "end_time": "2023-09-02T18:55:12.462513Z",
     "start_time": "2023-09-02T18:55:12.454482Z"
    }
   },
   "outputs": [
    {
     "data": {
      "text/plain": [
       "19759"
      ]
     },
     "execution_count": 2,
     "metadata": {},
     "output_type": "execute_result"
    }
   ],
   "source": [
    "# consola como calculadora\n",
    "# comando que representa uma operação matemática\n",
    "2-3**5+20000"
   ]
  },
  {
   "cell_type": "code",
   "execution_count": 7,
   "metadata": {},
   "outputs": [
    {
     "data": {
      "text/plain": [
       "int"
      ]
     },
     "execution_count": 7,
     "metadata": {},
     "output_type": "execute_result"
    }
   ],
   "source": [
    "type(33)"
   ]
  },
  {
   "cell_type": "code",
   "execution_count": 9,
   "metadata": {
    "ExecuteTime": {
     "end_time": "2023-09-02T19:17:38.070956Z",
     "start_time": "2023-09-02T19:17:38.054927Z"
    }
   },
   "outputs": [
    {
     "name": "stdout",
     "output_type": "stream",
     "text": [
      "2\n"
     ]
    },
    {
     "data": {
      "text/plain": [
       "4.0"
      ]
     },
     "execution_count": 9,
     "metadata": {},
     "output_type": "execute_result"
    }
   ],
   "source": [
    "# números reais e operações aritméticas básicas\n",
    "print (1 + 1)  # adição\n",
    "1 * 3  # multiplicação\n",
    "1/2   # divisão\n",
    "2 ** 4   # potência\n",
    "5 % 2  # módulo (o que sobra quando dividimos x por y, o resto)\n",
    "3 // 2  # divisão inteira \n",
    "# o resultado é o maior numéro inteiro maior que o resultado\n",
    "(-2 + 3) * (15 + 5)/5   # operações combinadas\n"
   ]
  },
  {
   "cell_type": "code",
   "execution_count": null,
   "metadata": {
    "ExecuteTime": {
     "end_time": "2023-09-02T19:17:39.210527Z",
     "start_time": "2023-09-02T19:17:39.206529Z"
    }
   },
   "outputs": [],
   "source": [
    "# nota-se que no output só aparece o resultado da última operação/expressão\n",
    "# para visualizar cada uma das operações, temos de inserir cada operação numa célula distinta e fazer Run"
   ]
  },
  {
   "cell_type": "code",
   "execution_count": 10,
   "metadata": {
    "ExecuteTime": {
     "end_time": "2023-09-02T19:17:43.002812Z",
     "start_time": "2023-09-02T19:17:42.982815Z"
    }
   },
   "outputs": [
    {
     "data": {
      "text/plain": [
       "2.392264150943397"
      ]
     },
     "execution_count": 10,
     "metadata": {},
     "output_type": "execute_result"
    }
   ],
   "source": [
    "(-2.5 + 3.12) * (15 + 5.45)/5.3"
   ]
  },
  {
   "cell_type": "code",
   "execution_count": null,
   "metadata": {
    "ExecuteTime": {
     "end_time": "2023-09-02T19:17:48.078749Z",
     "start_time": "2023-09-02T19:17:48.062728Z"
    }
   },
   "outputs": [],
   "source": [
    "# de forma equivalente podemos usar a função pré-definida print() para obter todos os outputs em simultâneo"
   ]
  },
  {
   "cell_type": "code",
   "execution_count": 11,
   "metadata": {
    "ExecuteTime": {
     "end_time": "2023-09-02T19:17:48.780543Z",
     "start_time": "2023-09-02T19:17:48.774539Z"
    }
   },
   "outputs": [
    {
     "name": "stdout",
     "output_type": "stream",
     "text": [
      "1 + 1 = 2\n",
      "1 * 3 = 3\n",
      "0.5\n",
      "2**4 =  16\n",
      "1\n",
      "3 // 2= 1\n",
      "(-2 + 3) * (15 + 5)/5 = 4.0\n"
     ]
    }
   ],
   "source": [
    "# o comando \"print\", neste caso, afixa as operações/expressões e também os resultados das operações no output\n",
    "\n",
    "print('1 + 1 =', 1 + 1)\n",
    "print('1 * 3 =', 1 * 3)\n",
    "print(1/2)\n",
    "print('2**4 = ', 2**4)\n",
    "print(5 % 2)\n",
    "print('3 // 2=', 3 // 2)  \n",
    "print('(-2 + 3) * (15 + 5)/5 =', (-2 + 3) * (15 + 5)/5)"
   ]
  },
  {
   "cell_type": "code",
   "execution_count": 12,
   "metadata": {
    "ExecuteTime": {
     "end_time": "2023-09-02T19:17:55.456938Z",
     "start_time": "2023-09-02T19:17:55.438938Z"
    }
   },
   "outputs": [
    {
     "data": {
      "text/plain": [
       "3.25"
      ]
     },
     "execution_count": 12,
     "metadata": {},
     "output_type": "execute_result"
    }
   ],
   "source": [
    "# divisão\n",
    "13/4"
   ]
  },
  {
   "cell_type": "code",
   "execution_count": 13,
   "metadata": {
    "ExecuteTime": {
     "end_time": "2023-09-02T19:17:56.300105Z",
     "start_time": "2023-09-02T19:17:56.295038Z"
    }
   },
   "outputs": [
    {
     "data": {
      "text/plain": [
       "3"
      ]
     },
     "execution_count": 13,
     "metadata": {},
     "output_type": "execute_result"
    }
   ],
   "source": [
    "# divisão inteira\n",
    "13//4"
   ]
  },
  {
   "cell_type": "code",
   "execution_count": 14,
   "metadata": {
    "ExecuteTime": {
     "end_time": "2023-09-02T19:17:57.155539Z",
     "start_time": "2023-09-02T19:17:57.142510Z"
    }
   },
   "outputs": [
    {
     "data": {
      "text/plain": [
       "1"
      ]
     },
     "execution_count": 14,
     "metadata": {},
     "output_type": "execute_result"
    }
   ],
   "source": [
    "# resto de uma divisão\n",
    "13%4"
   ]
  },
  {
   "cell_type": "code",
   "execution_count": 15,
   "metadata": {
    "ExecuteTime": {
     "end_time": "2023-09-02T19:18:16.704558Z",
     "start_time": "2023-09-02T19:18:16.685558Z"
    }
   },
   "outputs": [
    {
     "ename": "ZeroDivisionError",
     "evalue": "division by zero",
     "output_type": "error",
     "traceback": [
      "\u001b[1;31m---------------------------------------------------------------------------\u001b[0m",
      "\u001b[1;31mZeroDivisionError\u001b[0m                         Traceback (most recent call last)",
      "Cell \u001b[1;32mIn[15], line 2\u001b[0m\n\u001b[0;32m      1\u001b[0m \u001b[39m# divisão por zero\u001b[39;00m\n\u001b[1;32m----> 2\u001b[0m \u001b[39m13\u001b[39;49m\u001b[39m/\u001b[39;49m\u001b[39m0\u001b[39;49m\n",
      "\u001b[1;31mZeroDivisionError\u001b[0m: division by zero"
     ]
    }
   ],
   "source": [
    "# divisão por zero\n",
    "13/0"
   ]
  },
  {
   "cell_type": "code",
   "execution_count": null,
   "metadata": {},
   "outputs": [],
   "source": [
    "# Quando ocorre um erro (error or exception), o Python para a execução e gera uma mensagem de erro.\n",
    "# A última linha da mensagem de erro informa acerca o tipo de erro cometido (neste caso - divisão por zero)\n"
   ]
  },
  {
   "cell_type": "code",
   "execution_count": 21,
   "metadata": {},
   "outputs": [
    {
     "ename": "TypeError",
     "evalue": "can only concatenate str (not \"int\") to str",
     "output_type": "error",
     "traceback": [
      "\u001b[1;31m---------------------------------------------------------------------------\u001b[0m",
      "\u001b[1;31mTypeError\u001b[0m                                 Traceback (most recent call last)",
      "Cell \u001b[1;32mIn[21], line 1\u001b[0m\n\u001b[1;32m----> 1\u001b[0m \u001b[39m'\u001b[39;49m\u001b[39mdiana\u001b[39;49m\u001b[39m'\u001b[39;49m \u001b[39m+\u001b[39;49m \u001b[39m23\u001b[39;49m\n",
      "\u001b[1;31mTypeError\u001b[0m: can only concatenate str (not \"int\") to str"
     ]
    }
   ],
   "source": [
    "'diana' + 23"
   ]
  },
  {
   "cell_type": "code",
   "execution_count": 22,
   "metadata": {},
   "outputs": [
    {
     "data": {
      "text/plain": [
       "3"
      ]
     },
     "execution_count": 22,
     "metadata": {},
     "output_type": "execute_result"
    }
   ],
   "source": [
    "int(3.14)\n",
    "\n",
    "# só transforma números "
   ]
  },
  {
   "cell_type": "code",
   "execution_count": 23,
   "metadata": {},
   "outputs": [
    {
     "ename": "ValueError",
     "evalue": "invalid literal for int() with base 10: '3.14'",
     "output_type": "error",
     "traceback": [
      "\u001b[1;31m---------------------------------------------------------------------------\u001b[0m",
      "\u001b[1;31mValueError\u001b[0m                                Traceback (most recent call last)",
      "Cell \u001b[1;32mIn[23], line 1\u001b[0m\n\u001b[1;32m----> 1\u001b[0m \u001b[39mint\u001b[39;49m(\u001b[39m'\u001b[39;49m\u001b[39m3.14\u001b[39;49m\u001b[39m'\u001b[39;49m)\n",
      "\u001b[1;31mValueError\u001b[0m: invalid literal for int() with base 10: '3.14'"
     ]
    }
   ],
   "source": [
    "int('3.14')\n",
    "\n",
    "# e não strings\n"
   ]
  },
  {
   "cell_type": "code",
   "execution_count": 25,
   "metadata": {},
   "outputs": [
    {
     "ename": "NameError",
     "evalue": "name 'tipe' is not defined",
     "output_type": "error",
     "traceback": [
      "\u001b[1;31m---------------------------------------------------------------------------\u001b[0m",
      "\u001b[1;31mNameError\u001b[0m                                 Traceback (most recent call last)",
      "Cell \u001b[1;32mIn[25], line 1\u001b[0m\n\u001b[1;32m----> 1\u001b[0m tipe(\u001b[39m3.14\u001b[39m)\n",
      "\u001b[1;31mNameError\u001b[0m: name 'tipe' is not defined"
     ]
    }
   ],
   "source": [
    "tipe(3.14)"
   ]
  },
  {
   "cell_type": "code",
   "execution_count": 17,
   "metadata": {
    "ExecuteTime": {
     "end_time": "2023-09-02T19:18:17.564056Z",
     "start_time": "2023-09-02T19:18:17.559057Z"
    }
   },
   "outputs": [
    {
     "ename": "NameError",
     "evalue": "name 'log' is not defined",
     "output_type": "error",
     "traceback": [
      "\u001b[1;31m---------------------------------------------------------------------------\u001b[0m",
      "\u001b[1;31mNameError\u001b[0m                                 Traceback (most recent call last)",
      "Cell \u001b[1;32mIn[17], line 1\u001b[0m\n\u001b[1;32m----> 1\u001b[0m log(\u001b[39m2.3\u001b[39m)\n",
      "\u001b[1;31mNameError\u001b[0m: name 'log' is not defined"
     ]
    }
   ],
   "source": [
    "log(2.3)"
   ]
  },
  {
   "cell_type": "code",
   "execution_count": 18,
   "metadata": {
    "ExecuteTime": {
     "end_time": "2023-09-02T19:18:18.468079Z",
     "start_time": "2023-09-02T19:18:18.463055Z"
    }
   },
   "outputs": [],
   "source": [
    "import math"
   ]
  },
  {
   "cell_type": "code",
   "execution_count": 19,
   "metadata": {
    "ExecuteTime": {
     "end_time": "2023-09-02T19:18:19.166625Z",
     "start_time": "2023-09-02T19:18:19.158625Z"
    }
   },
   "outputs": [
    {
     "data": {
      "text/plain": [
       "0.8329091229351039"
      ]
     },
     "execution_count": 19,
     "metadata": {},
     "output_type": "execute_result"
    }
   ],
   "source": [
    "math.log(2.3)"
   ]
  },
  {
   "cell_type": "code",
   "execution_count": 26,
   "metadata": {},
   "outputs": [
    {
     "name": "stdout",
     "output_type": "stream",
     "text": [
      "Help on built-in function log in module math:\n",
      "\n",
      "log(...)\n",
      "    log(x, [base=math.e])\n",
      "    Return the logarithm of x to the given base.\n",
      "    \n",
      "    If the base not specified, returns the natural logarithm (base e) of x.\n",
      "\n"
     ]
    }
   ],
   "source": [
    "help(math.log)"
   ]
  },
  {
   "cell_type": "code",
   "execution_count": 20,
   "metadata": {
    "ExecuteTime": {
     "end_time": "2023-09-02T19:18:20.472373Z",
     "start_time": "2023-09-02T19:18:20.454338Z"
    }
   },
   "outputs": [
    {
     "data": {
      "text/plain": [
       "0.8329091229351039"
      ]
     },
     "execution_count": 20,
     "metadata": {},
     "output_type": "execute_result"
    }
   ],
   "source": [
    "from math import log\n",
    "log(2.3)"
   ]
  },
  {
   "cell_type": "markdown",
   "metadata": {},
   "source": [
    "## Atribuir \"valores\" para as variáveis\n",
    "\n",
    "- Para poder usar uma variável nos códigos precisamos atribuir-lhe um nome\n",
    "- **Variável** - é um objeto que tem um *nome* e um *valor*\n",
    "- Cada variável tem um nome distinto\n",
    "- A atribuição faz-se usando o operador igual ``=``\n",
    "- Duas variáveis com o mesmo nome, assumem os valores da última atribuição\n",
    "- Os nomes das variáveis não podem conter espaços, caracteres unicode ou palavras reservadas de Python\n",
    "- Os nomes das variáveis são *case-sensitive*"
   ]
  },
  {
   "cell_type": "markdown",
   "metadata": {},
   "source": [
    "### Palavras reservadas\n",
    "\n",
    "- As *palavras reservadas* em Python (*Reserved keywords in Python*) - não podem ser utilizadas como nomes de variáveis\n",
    "\n",
    "| _ | _ | _ |\n",
    "|:---:|:---:|---:|\n",
    "|False|class|finally|\n",
    "|is|return|None|\n",
    "|continue|for|lambda|\n",
    "|try|True|def|\n",
    "|from| nonlocal| while|\n",
    "|and|del|global|\n",
    "|not|with|as|\n",
    "|elif|if|or|\n",
    "|yield|assert|else|\n",
    "|import|pass|break|\n",
    "|except|in|raise|\t "
   ]
  },
  {
   "cell_type": "code",
   "execution_count": 27,
   "metadata": {
    "ExecuteTime": {
     "end_time": "2023-09-02T19:18:36.860819Z",
     "start_time": "2023-09-02T19:18:36.846782Z"
    }
   },
   "outputs": [
    {
     "data": {
      "text/plain": [
       "5"
      ]
     },
     "execution_count": 27,
     "metadata": {},
     "output_type": "execute_result"
    }
   ],
   "source": [
    "# atribuir o valor 5 a variável a1\n",
    "a1 = 5\n",
    "a1"
   ]
  },
  {
   "cell_type": "code",
   "execution_count": 28,
   "metadata": {
    "ExecuteTime": {
     "end_time": "2023-09-02T19:18:37.717758Z",
     "start_time": "2023-09-02T19:18:37.703467Z"
    }
   },
   "outputs": [
    {
     "name": "stdout",
     "output_type": "stream",
     "text": [
      "5\n"
     ]
    }
   ],
   "source": [
    "print(a1)"
   ]
  },
  {
   "cell_type": "code",
   "execution_count": 29,
   "metadata": {
    "ExecuteTime": {
     "end_time": "2023-09-02T19:18:39.832428Z",
     "start_time": "2023-09-02T19:18:39.815160Z"
    }
   },
   "outputs": [
    {
     "ename": "SyntaxError",
     "evalue": "invalid syntax (1993554666.py, line 1)",
     "output_type": "error",
     "traceback": [
      "\u001b[1;36m  Cell \u001b[1;32mIn[29], line 1\u001b[1;36m\u001b[0m\n\u001b[1;33m    a?1=34\u001b[0m\n\u001b[1;37m     ^\u001b[0m\n\u001b[1;31mSyntaxError\u001b[0m\u001b[1;31m:\u001b[0m invalid syntax\n"
     ]
    }
   ],
   "source": [
    "a?1=34\n"
   ]
  },
  {
   "cell_type": "code",
   "execution_count": 30,
   "metadata": {
    "ExecuteTime": {
     "end_time": "2023-09-02T19:18:42.581795Z",
     "start_time": "2023-09-02T19:18:42.574507Z"
    }
   },
   "outputs": [],
   "source": [
    "# atribuição múltipla\n",
    "x, y, u , v = 2, 5, -3, 0.19\n",
    "# y=5\n",
    "z=x+y-u+v"
   ]
  },
  {
   "cell_type": "code",
   "execution_count": 31,
   "metadata": {
    "ExecuteTime": {
     "end_time": "2023-09-02T19:18:43.427538Z",
     "start_time": "2023-09-02T19:18:43.414461Z"
    },
    "code_folding": []
   },
   "outputs": [
    {
     "name": "stdout",
     "output_type": "stream",
     "text": [
      "10.19\n"
     ]
    }
   ],
   "source": [
    "# desta forma fica guardada na memória a variável z=x+y=7\n",
    "# para visualizar o output utilizamos a função print\n",
    "print(z)"
   ]
  },
  {
   "cell_type": "code",
   "execution_count": 32,
   "metadata": {
    "ExecuteTime": {
     "end_time": "2023-09-02T19:18:48.571909Z",
     "start_time": "2023-09-02T19:18:48.565909Z"
    }
   },
   "outputs": [],
   "source": [
    "i = 5      \n",
    "i = i+1    # atribuir mais uma unidade ao último valor da variável i\n",
    "i += 1     # a mesma coisa que na alinha anterior"
   ]
  },
  {
   "cell_type": "code",
   "execution_count": 33,
   "metadata": {
    "ExecuteTime": {
     "end_time": "2023-09-02T19:18:49.407970Z",
     "start_time": "2023-09-02T19:18:49.390932Z"
    }
   },
   "outputs": [
    {
     "name": "stdout",
     "output_type": "stream",
     "text": [
      "7\n"
     ]
    }
   ],
   "source": [
    "print(i)"
   ]
  },
  {
   "cell_type": "code",
   "execution_count": 34,
   "metadata": {
    "ExecuteTime": {
     "end_time": "2023-09-02T19:18:50.191562Z",
     "start_time": "2023-09-02T19:18:50.174858Z"
    }
   },
   "outputs": [
    {
     "name": "stdout",
     "output_type": "stream",
     "text": [
      "2.786\n"
     ]
    },
    {
     "data": {
      "text/plain": [
       "float"
      ]
     },
     "execution_count": 34,
     "metadata": {},
     "output_type": "execute_result"
    }
   ],
   "source": [
    "# as variáveis numéricas podem ser de tipo int (inteiros) ou float (decimais)\n",
    "# por enquanto não vamos falar dos números complexos conjugados\n",
    "# type() é uma função Python que nós diz que tipo de dados temos \n",
    "\n",
    "a1=2.786    # tipo float\n",
    "print(a1)\n",
    "type(a1)\n"
   ]
  },
  {
   "cell_type": "code",
   "execution_count": 35,
   "metadata": {
    "ExecuteTime": {
     "end_time": "2023-09-02T19:19:04.414048Z",
     "start_time": "2023-09-02T19:19:04.406049Z"
    }
   },
   "outputs": [
    {
     "name": "stdout",
     "output_type": "stream",
     "text": [
      "100\n"
     ]
    },
    {
     "data": {
      "text/plain": [
       "int"
      ]
     },
     "execution_count": 35,
     "metadata": {},
     "output_type": "execute_result"
    }
   ],
   "source": [
    "a2=100      # tipo inteiro\n",
    "print(a2)\n",
    "type(a2)"
   ]
  },
  {
   "cell_type": "code",
   "execution_count": 36,
   "metadata": {
    "ExecuteTime": {
     "end_time": "2023-09-02T19:19:05.300051Z",
     "start_time": "2023-09-02T19:19:05.286051Z"
    }
   },
   "outputs": [
    {
     "name": "stdout",
     "output_type": "stream",
     "text": [
      "-2\n",
      "2.0\n",
      "12\n",
      "-123.6666666\n"
     ]
    }
   ],
   "source": [
    "# transformar numeros inteiros em float e float em inteiros usando as funções 'int' e 'float'\n",
    "print(int(-2.8))\n",
    "print(float(2))\n",
    "print(int(12.54634555))\n",
    "print(float(-123.6666666))"
   ]
  },
  {
   "cell_type": "code",
   "execution_count": 37,
   "metadata": {
    "ExecuteTime": {
     "end_time": "2023-09-02T19:19:10.877433Z",
     "start_time": "2023-09-02T19:19:10.862408Z"
    }
   },
   "outputs": [],
   "source": [
    "# apagar (delete) variáveis com a função Python 'del'\n",
    "del a1, a2"
   ]
  },
  {
   "cell_type": "code",
   "execution_count": 38,
   "metadata": {
    "ExecuteTime": {
     "end_time": "2023-09-02T19:19:11.517923Z",
     "start_time": "2023-09-02T19:19:11.502384Z"
    }
   },
   "outputs": [
    {
     "ename": "NameError",
     "evalue": "name 'a2' is not defined",
     "output_type": "error",
     "traceback": [
      "\u001b[1;31m---------------------------------------------------------------------------\u001b[0m",
      "\u001b[1;31mNameError\u001b[0m                                 Traceback (most recent call last)",
      "Cell \u001b[1;32mIn[38], line 1\u001b[0m\n\u001b[1;32m----> 1\u001b[0m a2\n",
      "\u001b[1;31mNameError\u001b[0m: name 'a2' is not defined"
     ]
    }
   ],
   "source": [
    "a2"
   ]
  },
  {
   "cell_type": "code",
   "execution_count": 39,
   "metadata": {
    "ExecuteTime": {
     "end_time": "2023-09-02T19:19:12.204512Z",
     "start_time": "2023-09-02T19:19:12.190512Z"
    }
   },
   "outputs": [],
   "source": [
    "pi = 3.14159265359    # decimal\n"
   ]
  },
  {
   "cell_type": "code",
   "execution_count": 40,
   "metadata": {
    "ExecuteTime": {
     "end_time": "2023-09-02T19:19:13.063729Z",
     "start_time": "2023-09-02T19:19:13.046732Z"
    }
   },
   "outputs": [
    {
     "name": "stdout",
     "output_type": "stream",
     "text": [
      "3.14159265359\n"
     ]
    }
   ],
   "source": [
    "print(pi)"
   ]
  },
  {
   "cell_type": "code",
   "execution_count": 41,
   "metadata": {
    "ExecuteTime": {
     "end_time": "2023-09-02T19:19:13.840045Z",
     "start_time": "2023-09-02T19:19:13.822029Z"
    }
   },
   "outputs": [
    {
     "data": {
      "text/plain": [
       "3.1416"
      ]
     },
     "execution_count": 41,
     "metadata": {},
     "output_type": "execute_result"
    }
   ],
   "source": [
    "xr=round(pi,4)\n",
    "xr"
   ]
  },
  {
   "cell_type": "code",
   "execution_count": null,
   "metadata": {
    "ExecuteTime": {
     "end_time": "2023-09-02T19:19:23.503911Z",
     "start_time": "2023-09-02T19:19:23.488884Z"
    }
   },
   "outputs": [],
   "source": [
    "# atribuir um novo valor a variável pi\n",
    "pi = 67\n",
    "print(pi)"
   ]
  },
  {
   "cell_type": "markdown",
   "metadata": {},
   "source": [
    "## Strings/Words - Sequências \n",
    "\n",
    "- **String** = seguência de letras / números / caracteres\n",
    "- Representa-se entre aspas, ou aspas duplas "
   ]
  },
  {
   "cell_type": "code",
   "execution_count": 42,
   "metadata": {
    "ExecuteTime": {
     "end_time": "2023-09-02T19:19:33.215559Z",
     "start_time": "2023-09-02T19:19:33.198561Z"
    }
   },
   "outputs": [
    {
     "data": {
      "text/plain": [
       "'my string'"
      ]
     },
     "execution_count": 42,
     "metadata": {},
     "output_type": "execute_result"
    }
   ],
   "source": [
    "'my string'"
   ]
  },
  {
   "cell_type": "code",
   "execution_count": 43,
   "metadata": {
    "ExecuteTime": {
     "end_time": "2023-09-02T19:19:34.074592Z",
     "start_time": "2023-09-02T19:19:34.054188Z"
    }
   },
   "outputs": [
    {
     "data": {
      "text/plain": [
       "'I like Data Science'"
      ]
     },
     "execution_count": 43,
     "metadata": {},
     "output_type": "execute_result"
    }
   ],
   "source": [
    "\"I like Data Science\""
   ]
  },
  {
   "cell_type": "code",
   "execution_count": 44,
   "metadata": {
    "ExecuteTime": {
     "end_time": "2023-09-02T19:19:34.872668Z",
     "start_time": "2023-09-02T19:19:34.854644Z"
    }
   },
   "outputs": [
    {
     "data": {
      "text/plain": [
       "'I want Pizza'"
      ]
     },
     "execution_count": 44,
     "metadata": {},
     "output_type": "execute_result"
    }
   ],
   "source": [
    "s = \"\"\"I want Pizza\"\"\"\n",
    "s"
   ]
  },
  {
   "cell_type": "code",
   "execution_count": 45,
   "metadata": {
    "ExecuteTime": {
     "end_time": "2023-09-02T19:19:35.994352Z",
     "start_time": "2023-09-02T19:19:35.982353Z"
    }
   },
   "outputs": [],
   "source": [
    "# porque não aparece o output???"
   ]
  },
  {
   "cell_type": "code",
   "execution_count": null,
   "metadata": {
    "ExecuteTime": {
     "end_time": "2023-09-02T19:19:37.151913Z",
     "start_time": "2023-09-02T19:19:37.141914Z"
    }
   },
   "outputs": [],
   "source": [
    "print(s)"
   ]
  },
  {
   "cell_type": "code",
   "execution_count": null,
   "metadata": {
    "ExecuteTime": {
     "end_time": "2023-09-02T19:19:38.110496Z",
     "start_time": "2023-09-02T19:19:38.102471Z"
    }
   },
   "outputs": [],
   "source": [
    "\"\"\"I want Pizza\"\"\""
   ]
  },
  {
   "cell_type": "markdown",
   "metadata": {},
   "source": [
    "#### Operações com strings\n",
    "- adição ``+``\n",
    "- união ``join``\n",
    "- ``replace, count, find, split``"
   ]
  },
  {
   "cell_type": "code",
   "execution_count": 46,
   "metadata": {
    "ExecuteTime": {
     "end_time": "2023-09-02T19:19:42.536080Z",
     "start_time": "2023-09-02T19:19:42.527081Z"
    }
   },
   "outputs": [
    {
     "name": "stdout",
     "output_type": "stream",
     "text": [
      "datascience\n",
      "data science\n",
      "data science data science\n"
     ]
    }
   ],
   "source": [
    "# adicionar/juntar duas sequências\n",
    "f=\"data\"\n",
    "g=\"science\"\n",
    "print(f + g)    # string concatenation\n",
    "print(f + ' ' + g)    # string concatenation with space ' ' between words\n",
    "print(\" \".join([f, g, f, g]))   # juntar sequências "
   ]
  },
  {
   "cell_type": "code",
   "execution_count": 47,
   "metadata": {
    "ExecuteTime": {
     "end_time": "2023-09-02T19:19:43.236819Z",
     "start_time": "2023-09-02T19:19:43.230819Z"
    }
   },
   "outputs": [
    {
     "data": {
      "text/plain": [
       "'DATA'"
      ]
     },
     "execution_count": 47,
     "metadata": {},
     "output_type": "execute_result"
    }
   ],
   "source": [
    "# Upper Case a string - usamos a função 'upper' para escrever o string f em maiúsculas\n",
    "f.upper()"
   ]
  },
  {
   "cell_type": "code",
   "execution_count": 48,
   "metadata": {
    "ExecuteTime": {
     "end_time": "2023-09-02T19:19:44.049482Z",
     "start_time": "2023-09-02T19:19:44.030451Z"
    }
   },
   "outputs": [],
   "source": [
    "num = 1\n",
    "name = 'Diana'"
   ]
  },
  {
   "cell_type": "code",
   "execution_count": 49,
   "metadata": {
    "ExecuteTime": {
     "end_time": "2023-09-02T19:19:44.738515Z",
     "start_time": "2023-09-02T19:19:44.726515Z"
    }
   },
   "outputs": [
    {
     "name": "stdout",
     "output_type": "stream",
     "text": [
      "My number is: 1, and my name is: Diana\n"
     ]
    }
   ],
   "source": [
    "print('My number is: {one}, and my name is: {two}'.format(one=num,two=name))"
   ]
  },
  {
   "cell_type": "code",
   "execution_count": 50,
   "metadata": {
    "ExecuteTime": {
     "end_time": "2023-09-02T19:19:45.381451Z",
     "start_time": "2023-09-02T19:19:45.374480Z"
    }
   },
   "outputs": [
    {
     "name": "stdout",
     "output_type": "stream",
     "text": [
      "My number is: 1, and my name is: Diana\n"
     ]
    }
   ],
   "source": [
    "print('My number is: {}, and my name is: {}'.format(num,name))"
   ]
  },
  {
   "cell_type": "code",
   "execution_count": 51,
   "metadata": {
    "ExecuteTime": {
     "end_time": "2023-09-02T19:19:46.055677Z",
     "start_time": "2023-09-02T19:19:46.038645Z"
    }
   },
   "outputs": [
    {
     "data": {
      "text/plain": [
       "'Nuno Is Learning'"
      ]
     },
     "execution_count": 51,
     "metadata": {},
     "output_type": "execute_result"
    }
   ],
   "source": [
    "string=\"Nuno Is Learning\"\n",
    "string"
   ]
  },
  {
   "cell_type": "code",
   "execution_count": 52,
   "metadata": {
    "ExecuteTime": {
     "end_time": "2023-09-02T19:19:46.886572Z",
     "start_time": "2023-09-02T19:19:46.869829Z"
    }
   },
   "outputs": [
    {
     "name": "stdout",
     "output_type": "stream",
     "text": [
      "Rita Is Learning\n"
     ]
    }
   ],
   "source": [
    "string=string.replace(\"Nuno\",\"Rita\")\n",
    "print(string)"
   ]
  },
  {
   "cell_type": "code",
   "execution_count": 53,
   "metadata": {
    "ExecuteTime": {
     "end_time": "2023-09-02T19:19:48.212665Z",
     "start_time": "2023-09-02T19:19:48.206663Z"
    }
   },
   "outputs": [
    {
     "data": {
      "text/plain": [
       "['Rita', 'Is', 'Learning']"
      ]
     },
     "execution_count": 53,
     "metadata": {},
     "output_type": "execute_result"
    }
   ],
   "source": [
    "string.split()"
   ]
  },
  {
   "cell_type": "code",
   "execution_count": 54,
   "metadata": {
    "ExecuteTime": {
     "end_time": "2023-09-02T19:19:49.447539Z",
     "start_time": "2023-09-02T19:19:49.430535Z"
    }
   },
   "outputs": [
    {
     "data": {
      "text/plain": [
       "2"
      ]
     },
     "execution_count": 54,
     "metadata": {},
     "output_type": "execute_result"
    }
   ],
   "source": [
    "string.count('n')"
   ]
  },
  {
   "cell_type": "code",
   "execution_count": 56,
   "metadata": {
    "ExecuteTime": {
     "end_time": "2023-09-02T19:19:50.072893Z",
     "start_time": "2023-09-02T19:19:50.054890Z"
    }
   },
   "outputs": [
    {
     "data": {
      "text/plain": [
       "5"
      ]
     },
     "execution_count": 56,
     "metadata": {},
     "output_type": "execute_result"
    }
   ],
   "source": [
    "string.find('I')\n",
    "\n",
    "# Conta a posição onde se encontra o argumento da função, iniciando-se no 0"
   ]
  },
  {
   "cell_type": "markdown",
   "metadata": {},
   "source": [
    " ## Listas, Dicionários, Grupos, Conjuntos\n",
    " \n",
    "Lists, Dictionaries, Tuples, Sets\n",
    "\n"
   ]
  },
  {
   "cell_type": "markdown",
   "metadata": {},
   "source": [
    "### Lists - Listas\n",
    "\n",
    "* listas - uma coleção de objectos de tipos arbitrários, sem comprimento fixo\n",
    "* podem conter elementos heterogéneos\n",
    "* são **mutáveis**\n",
    "* **definem-se entre [ ]**\n",
    "* os elementos são ordenados e indexados por números inteiros\n",
    "* o índice (index) de uma lista começa sempre em 0 (**zero**) \n",
    "* Operações com listas\n",
    "    - inverter a ordem dos elementos na lista ``reverse``\n",
    "    - converter lower/uppercase para upper/lowercase ``lower, upper``\n",
    "    - adicionar novos elementos a uma lista ``append``\n",
    "    - mudar ou remover elementos de uma lista\n",
    "    - inexing and slicing\n",
    "    - ``len, sort, insert, remove, del, extend``"
   ]
  },
  {
   "cell_type": "code",
   "execution_count": 57,
   "metadata": {
    "ExecuteTime": {
     "end_time": "2023-09-02T19:20:08.707507Z",
     "start_time": "2023-09-02T19:20:08.694506Z"
    }
   },
   "outputs": [
    {
     "data": {
      "text/plain": [
       "[1, 2, 3]"
      ]
     },
     "execution_count": 57,
     "metadata": {},
     "output_type": "execute_result"
    }
   ],
   "source": [
    "# lista só de números inteiros\n",
    "[1,2,3]"
   ]
  },
  {
   "cell_type": "code",
   "execution_count": 58,
   "metadata": {
    "ExecuteTime": {
     "end_time": "2023-09-02T19:20:16.583371Z",
     "start_time": "2023-09-02T19:20:16.567159Z"
    }
   },
   "outputs": [
    {
     "data": {
      "text/plain": [
       "['mestrado', 1, [1, 2]]"
      ]
     },
     "execution_count": 58,
     "metadata": {},
     "output_type": "execute_result"
    }
   ],
   "source": [
    "# lista de elementos heterogéneos (strings, numbers and arrays) (seguências, números e vectores)\n",
    "['mestrado',1,[1,2]]"
   ]
  },
  {
   "cell_type": "code",
   "execution_count": 59,
   "metadata": {
    "ExecuteTime": {
     "end_time": "2023-09-03T11:04:35.645947Z",
     "start_time": "2023-09-03T11:04:35.624906Z"
    }
   },
   "outputs": [
    {
     "data": {
      "text/plain": [
       "[]"
      ]
     },
     "execution_count": 59,
     "metadata": {},
     "output_type": "execute_result"
    }
   ],
   "source": [
    "# definir uma lista vazia\n",
    "lista_vazia =[]\n",
    "lista_vazia"
   ]
  },
  {
   "cell_type": "code",
   "execution_count": 60,
   "metadata": {
    "ExecuteTime": {
     "end_time": "2023-09-02T19:20:17.440425Z",
     "start_time": "2023-09-02T19:20:17.422425Z"
    }
   },
   "outputs": [],
   "source": [
    "# associar um nome a lista\n",
    "my_list = ['a','b','c']"
   ]
  },
  {
   "cell_type": "code",
   "execution_count": 61,
   "metadata": {
    "ExecuteTime": {
     "end_time": "2023-09-02T19:20:20.419624Z",
     "start_time": "2023-09-02T19:20:20.406617Z"
    }
   },
   "outputs": [
    {
     "name": "stdout",
     "output_type": "stream",
     "text": [
      "['a', 'b', 'c']\n"
     ]
    }
   ],
   "source": [
    "print(my_list)"
   ]
  },
  {
   "cell_type": "code",
   "execution_count": 62,
   "metadata": {
    "ExecuteTime": {
     "end_time": "2023-09-02T19:20:22.711534Z",
     "start_time": "2023-09-02T19:20:22.694535Z"
    }
   },
   "outputs": [],
   "source": [
    "# adicionar o elemento 'd' na lista (no final) usando a função 'append'\n",
    "my_list.append('d')"
   ]
  },
  {
   "cell_type": "code",
   "execution_count": 63,
   "metadata": {
    "ExecuteTime": {
     "end_time": "2023-09-02T19:20:23.381630Z",
     "start_time": "2023-09-02T19:20:23.374631Z"
    }
   },
   "outputs": [
    {
     "name": "stdout",
     "output_type": "stream",
     "text": [
      "['a', 'b', 'c', 'd']\n"
     ]
    }
   ],
   "source": [
    "print(my_list)"
   ]
  },
  {
   "cell_type": "code",
   "execution_count": 64,
   "metadata": {
    "ExecuteTime": {
     "end_time": "2023-09-02T19:20:24.140752Z",
     "start_time": "2023-09-02T19:20:24.125809Z"
    }
   },
   "outputs": [
    {
     "data": {
      "text/plain": [
       "'a'"
      ]
     },
     "execution_count": 64,
     "metadata": {},
     "output_type": "execute_result"
    }
   ],
   "source": [
    "# acessar elemento(s) da lista usando o seu índice (index)\n",
    "# neste caso vai ser escolhido o primeiro elemento da lista (que tem índice 0 -zero)\n",
    "my_list[0]"
   ]
  },
  {
   "cell_type": "code",
   "execution_count": 65,
   "metadata": {
    "ExecuteTime": {
     "end_time": "2023-09-02T19:20:31.662809Z",
     "start_time": "2023-09-02T19:20:31.646808Z"
    }
   },
   "outputs": [
    {
     "data": {
      "text/plain": [
       "'b'"
      ]
     },
     "execution_count": 65,
     "metadata": {},
     "output_type": "execute_result"
    }
   ],
   "source": [
    "# o segundo elemento da lista, que tem indíce 1, ou seja\n",
    "my_list[1]"
   ]
  },
  {
   "cell_type": "code",
   "execution_count": 66,
   "metadata": {
    "ExecuteTime": {
     "end_time": "2023-09-02T19:20:32.384594Z",
     "start_time": "2023-09-02T19:20:32.366215Z"
    }
   },
   "outputs": [
    {
     "data": {
      "text/plain": [
       "['b', 'c', 'd']"
      ]
     },
     "execution_count": 66,
     "metadata": {},
     "output_type": "execute_result"
    }
   ],
   "source": [
    "# listar a partir do elemento 1 da lista (incluíndo o elemento da posição/index 1)\n",
    "my_list[1:]"
   ]
  },
  {
   "cell_type": "code",
   "execution_count": 67,
   "metadata": {
    "ExecuteTime": {
     "end_time": "2023-09-02T19:20:37.358460Z",
     "start_time": "2023-09-02T19:20:37.351461Z"
    }
   },
   "outputs": [
    {
     "data": {
      "text/plain": [
       "['d']"
      ]
     },
     "execution_count": 67,
     "metadata": {},
     "output_type": "execute_result"
    }
   ],
   "source": [
    "# listar a partir do elemento 3\n",
    "my_list[3:]"
   ]
  },
  {
   "cell_type": "code",
   "execution_count": 68,
   "metadata": {
    "ExecuteTime": {
     "end_time": "2023-09-02T19:20:38.230551Z",
     "start_time": "2023-09-02T19:20:38.214525Z"
    }
   },
   "outputs": [
    {
     "data": {
      "text/plain": [
       "['a', 'b']"
      ]
     },
     "execution_count": 68,
     "metadata": {},
     "output_type": "execute_result"
    }
   ],
   "source": [
    "# listar todos os elementos situado antes do elemento 2 da lista (excluíndo o elemento de índice 2)\n",
    "my_list[:2]"
   ]
  },
  {
   "cell_type": "code",
   "execution_count": 69,
   "metadata": {
    "ExecuteTime": {
     "end_time": "2023-09-02T19:20:45.516517Z",
     "start_time": "2023-09-02T19:20:45.510515Z"
    }
   },
   "outputs": [
    {
     "name": "stdout",
     "output_type": "stream",
     "text": [
      "['a', 'b', 'c', 'd', 'a', 'b', 'c', 'd', 'a', 'b', 'c', 'd', 'a', 'b', 'c', 'd', 'a', 'b', 'c', 'd', 'a', 'b', 'c', 'd', 'a', 'b', 'c', 'd', 'a', 'b', 'c', 'd', 'a', 'b', 'c', 'd', 'a', 'b', 'c', 'd', 'a', 'b', 'c', 'd', 'a', 'b', 'c', 'd', 'a', 'b', 'c', 'd', 'a', 'b', 'c', 'd', 'a', 'b', 'c', 'd', 'a', 'b', 'c', 'd', 'a', 'b', 'c', 'd', 'a', 'b', 'c', 'd', 'a', 'b', 'c', 'd', 'a', 'b', 'c', 'd', 'a', 'b', 'c', 'd', 'a', 'b', 'c', 'd', 'a', 'b', 'c', 'd', 'a', 'b', 'c', 'd', 'a', 'b', 'c', 'd', 'a', 'b', 'c', 'd', 'a', 'b', 'c', 'd', 'a', 'b', 'c', 'd', 'a', 'b', 'c', 'd', 'a', 'b', 'c', 'd']\n"
     ]
    }
   ],
   "source": [
    "# repetir a lista 30 vezes e formar uma nova lista com o nome 'my_new_list'\n",
    "my_new_list=my_list * 30\n",
    "print(my_new_list)"
   ]
  },
  {
   "cell_type": "code",
   "execution_count": 70,
   "metadata": {
    "ExecuteTime": {
     "end_time": "2023-09-02T19:20:46.328829Z",
     "start_time": "2023-09-02T19:20:46.311121Z"
    }
   },
   "outputs": [],
   "source": [
    "list2=[2, 100, \"hello\", 1.0, 'data_science']"
   ]
  },
  {
   "cell_type": "code",
   "execution_count": 71,
   "metadata": {
    "ExecuteTime": {
     "end_time": "2023-09-02T19:20:47.078869Z",
     "start_time": "2023-09-02T19:20:47.070840Z"
    }
   },
   "outputs": [
    {
     "name": "stdout",
     "output_type": "stream",
     "text": [
      "[2, 100, 'hello', 1.0, 'data_science']\n"
     ]
    }
   ],
   "source": [
    "print(list2)"
   ]
  },
  {
   "cell_type": "code",
   "execution_count": 72,
   "metadata": {
    "ExecuteTime": {
     "end_time": "2023-09-02T19:20:48.247719Z",
     "start_time": "2023-09-02T19:20:48.238719Z"
    }
   },
   "outputs": [
    {
     "data": {
      "text/plain": [
       "'data_science'"
      ]
     },
     "execution_count": 72,
     "metadata": {},
     "output_type": "execute_result"
    }
   ],
   "source": [
    "list2[4]"
   ]
  },
  {
   "cell_type": "code",
   "execution_count": 73,
   "metadata": {
    "ExecuteTime": {
     "end_time": "2023-09-02T19:20:49.045888Z",
     "start_time": "2023-09-02T19:20:49.038864Z"
    }
   },
   "outputs": [
    {
     "name": "stdout",
     "output_type": "stream",
     "text": [
      "n\n",
      "o\n"
     ]
    }
   ],
   "source": [
    "# indicar elementos da seguência começando do fim da seguência (usar -1,-2,-3...)\n",
    "\n",
    "language = 'Python'\n",
    "last_letter = language[-1]\n",
    "print(last_letter) # n\n",
    "second_last = language[-2]\n",
    "print(second_last) # o"
   ]
  },
  {
   "cell_type": "code",
   "execution_count": 75,
   "metadata": {
    "ExecuteTime": {
     "end_time": "2023-09-02T19:20:50.001941Z",
     "start_time": "2023-09-02T19:20:49.989911Z"
    }
   },
   "outputs": [
    {
     "name": "stdout",
     "output_type": "stream",
     "text": [
      "Pyt\n",
      "hon\n",
      "hon\n",
      "hon\n"
     ]
    }
   ],
   "source": [
    "# Slicing / troços de seguências\n",
    "\n",
    "language = 'Python'\n",
    "first_three = language[0:3] # starts at zero index and up to 3 but not include 3\n",
    "print(first_three) # hon\n",
    "last_three = language[3:6]\n",
    "print(last_three) # hon\n",
    "# Another way\n",
    "last_three = language[-3:]\n",
    "print(last_three)   # hon\n",
    "last_three = language[3:]\n",
    "print(last_three)   # hon"
   ]
  },
  {
   "cell_type": "markdown",
   "metadata": {},
   "source": [
    "##############################################################################################\n",
    "\n",
    "- Definir os indices na palavra 'Python'\n",
    "\n",
    "|P|y|t|h|o|n|\n",
    "|:---:|:---:|:---:|:---:|:---:|:---:|\n",
    "|0|1|2|3|4|5|\n",
    "|-6|-5|-4|-3|-2|-1|\n",
    "\n",
    "- Para um objeto com `n` entradas (6 letras no caso da palavra Python)\n",
    "    - Indexação começa em `0` (sentido **forward**) e acaba em `(n-1)`\n",
    "    - Indexação começa em `-n` (sentido **backward**) e acaba em `-1`\n"
   ]
  },
  {
   "cell_type": "code",
   "execution_count": 76,
   "metadata": {
    "ExecuteTime": {
     "end_time": "2022-01-31T19:45:30.694190Z",
     "start_time": "2022-01-31T19:45:30.677224Z"
    },
    "code_folding": [],
    "deletable": false,
    "editable": false,
    "run_control": {
     "frozen": true,
     "marked": false
    }
   },
   "outputs": [
    {
     "data": {
      "text/plain": [
       "['ana', 'pedro', 'rui', 'luisa', 'nuno']"
      ]
     },
     "execution_count": 76,
     "metadata": {},
     "output_type": "execute_result"
    }
   ],
   "source": [
    "# mudar/adicionar um elemento na lista\n",
    "familia=['ana','pedro','rui','nuno']\n",
    "familia[2:3]=['rui','luisa']    # adicionar elemento na lista\n",
    "familia"
   ]
  },
  {
   "cell_type": "code",
   "execution_count": 77,
   "metadata": {
    "ExecuteTime": {
     "end_time": "2023-09-02T19:36:09.225670Z",
     "start_time": "2023-09-02T19:36:09.214669Z"
    }
   },
   "outputs": [
    {
     "data": {
      "text/plain": [
       "['ana', 'pedro', 'miguel', 'alex']"
      ]
     },
     "execution_count": 77,
     "metadata": {},
     "output_type": "execute_result"
    }
   ],
   "source": [
    "# mudar/adicionar um elemnto na lista\n",
    "familia=['ana','pedro','rui','nuno']\n",
    "familia[2:4]=['miguel','alex']    # mudar elemento na lista\n",
    "familia"
   ]
  },
  {
   "cell_type": "code",
   "execution_count": 78,
   "metadata": {
    "ExecuteTime": {
     "end_time": "2023-09-02T19:36:09.938106Z",
     "start_time": "2023-09-02T19:36:09.926110Z"
    }
   },
   "outputs": [
    {
     "data": {
      "text/plain": [
       "['ana', 'pedro', 'alex']"
      ]
     },
     "execution_count": 78,
     "metadata": {},
     "output_type": "execute_result"
    }
   ],
   "source": [
    "# remover elemento da lista usando a função 'del'\n",
    "del(familia[2])\n",
    "familia"
   ]
  },
  {
   "cell_type": "code",
   "execution_count": 79,
   "metadata": {
    "ExecuteTime": {
     "end_time": "2023-09-02T19:36:20.496426Z",
     "start_time": "2023-09-02T19:36:20.479428Z"
    }
   },
   "outputs": [
    {
     "data": {
      "text/plain": [
       "['ana', 'pedro', 'alex', 'dog', 'cat']"
      ]
     },
     "execution_count": 79,
     "metadata": {},
     "output_type": "execute_result"
    }
   ],
   "source": [
    "# adicionar 2 listas\n",
    "new_fam=familia + ['dog','cat']\n",
    "new_fam"
   ]
  },
  {
   "cell_type": "code",
   "execution_count": 80,
   "metadata": {
    "ExecuteTime": {
     "end_time": "2023-09-02T19:37:00.302315Z",
     "start_time": "2023-09-02T19:37:00.287480Z"
    }
   },
   "outputs": [
    {
     "data": {
      "text/plain": [
       "[1, 2, 3, 4, 3, 6, 9, 1]"
      ]
     },
     "execution_count": 80,
     "metadata": {},
     "output_type": "execute_result"
    }
   ],
   "source": [
    "# juntar a lista x os elementos da lista y\n",
    "x = [1,2,3,4]\n",
    "y = [3,6,9,1]\n",
    "x.extend(y)\n",
    "x"
   ]
  },
  {
   "cell_type": "code",
   "execution_count": 96,
   "metadata": {
    "ExecuteTime": {
     "end_time": "2023-09-02T19:38:04.396080Z",
     "start_time": "2023-09-02T19:38:04.376056Z"
    }
   },
   "outputs": [
    {
     "data": {
      "text/plain": [
       "[1, 2, 10, 10, 10, 10, 10, 10, 10, 4, 3, 6, 9, 1]"
      ]
     },
     "execution_count": 96,
     "metadata": {},
     "output_type": "execute_result"
    }
   ],
   "source": [
    "# na lista x na posição/índice 2 vai ser inserido um novo elementto - valor 10\n",
    "# função 'insert'\n",
    "x.insert(2,10) \n",
    "\n",
    "#insert(index no, item to be inserted)\n",
    "x\n"
   ]
  },
  {
   "cell_type": "code",
   "execution_count": 88,
   "metadata": {},
   "outputs": [
    {
     "name": "stdout",
     "output_type": "stream",
     "text": [
      "Help on method_descriptor:\n",
      "\n",
      "insert(self, index, object, /)\n",
      "    Insert object before index.\n",
      "\n"
     ]
    }
   ],
   "source": [
    "help(list.insert)"
   ]
  },
  {
   "cell_type": "code",
   "execution_count": 89,
   "metadata": {},
   "outputs": [
    {
     "data": {
      "text/plain": [
       "[1, 2, 10, 10, 10, 10, 10, 10, 3, 4, 3, 6, 9, 1]"
      ]
     },
     "execution_count": 89,
     "metadata": {},
     "output_type": "execute_result"
    }
   ],
   "source": [
    "# remover da lista o elemento de indice 2 (NB: o index das listas inicia-se no 0)\n",
    "# função 'pop'\n",
    "x.pop(2) \n",
    "x"
   ]
  },
  {
   "cell_type": "code",
   "execution_count": 90,
   "metadata": {
    "ExecuteTime": {
     "end_time": "2023-09-02T19:40:04.448956Z",
     "start_time": "2023-09-02T19:40:04.433957Z"
    }
   },
   "outputs": [
    {
     "data": {
      "text/plain": [
       "[1, 2, 10, 10, 10, 10, 10, 10, 4, 3, 6, 9, 1]"
      ]
     },
     "execution_count": 90,
     "metadata": {},
     "output_type": "execute_result"
    }
   ],
   "source": [
    "# remover todos as entradas com valor igual a 3 da lista\n",
    "x.remove(3) \n",
    "x"
   ]
  },
  {
   "cell_type": "code",
   "execution_count": 91,
   "metadata": {},
   "outputs": [
    {
     "name": "stdout",
     "output_type": "stream",
     "text": [
      "Help on method_descriptor:\n",
      "\n",
      "remove(self, value, /)\n",
      "    Remove first occurrence of value.\n",
      "    \n",
      "    Raises ValueError if the value is not present.\n",
      "\n"
     ]
    }
   ],
   "source": [
    "help(list.remove)"
   ]
  },
  {
   "cell_type": "code",
   "execution_count": 97,
   "metadata": {
    "ExecuteTime": {
     "end_time": "2023-09-02T19:40:26.073870Z",
     "start_time": "2023-09-02T19:40:26.055875Z"
    }
   },
   "outputs": [
    {
     "data": {
      "text/plain": [
       "[1, 9, 6, 3, 4, 10, 10, 10, 10, 10, 10, 10, 2, 1]"
      ]
     },
     "execution_count": 97,
     "metadata": {},
     "output_type": "execute_result"
    }
   ],
   "source": [
    "# inverter a ordem dos elementos da lista\n",
    "x.reverse()\n",
    "x"
   ]
  },
  {
   "cell_type": "code",
   "execution_count": 98,
   "metadata": {
    "ExecuteTime": {
     "end_time": "2023-09-02T19:41:16.939299Z",
     "start_time": "2023-09-02T19:41:16.927212Z"
    }
   },
   "outputs": [
    {
     "data": {
      "text/plain": [
       "[1, 1, 2, 3, 4, 6, 9, 10, 10, 10, 10, 10, 10, 10]"
      ]
     },
     "execution_count": 98,
     "metadata": {},
     "output_type": "execute_result"
    }
   ],
   "source": [
    "# ordenar os elementos da lista (do menor ao maior, ou na ordem alfabética)\n",
    "x.sort()\n",
    "x"
   ]
  },
  {
   "cell_type": "code",
   "execution_count": 103,
   "metadata": {
    "ExecuteTime": {
     "end_time": "2023-09-02T19:41:56.115834Z",
     "start_time": "2023-09-02T19:41:56.095031Z"
    }
   },
   "outputs": [
    {
     "data": {
      "text/plain": [
       "[0, 1, 4, 9, 16, 25, 36, 49, 64, 81]"
      ]
     },
     "execution_count": 103,
     "metadata": {},
     "output_type": "execute_result"
    }
   ],
   "source": [
    "# construir uma lista com base numa função\n",
    "\n",
    "# para cada x no domínio range(10) calcula n^2\n",
    "list1 = [n**2 for n in range(10)]\n",
    "\n",
    "list1"
   ]
  },
  {
   "cell_type": "code",
   "execution_count": 105,
   "metadata": {
    "ExecuteTime": {
     "end_time": "2023-09-02T19:42:05.026108Z",
     "start_time": "2023-09-02T19:42:05.016110Z"
    }
   },
   "outputs": [
    {
     "data": {
      "text/plain": [
       "[1, 9, 25, 49, 81]"
      ]
     },
     "execution_count": 105,
     "metadata": {},
     "output_type": "execute_result"
    }
   ],
   "source": [
    "# eleva ao quadrado todo o k que esteja no intervalo de 1 a 11, cujo resto da divisão seja 1\n",
    "x15 = [k ** 2 for k in range (1, 11) if k % 2 == 1]\n",
    "x15"
   ]
  },
  {
   "cell_type": "code",
   "execution_count": 108,
   "metadata": {
    "ExecuteTime": {
     "end_time": "2023-09-03T11:06:09.178848Z",
     "start_time": "2023-09-03T11:06:09.158834Z"
    }
   },
   "outputs": [
    {
     "name": "stdout",
     "output_type": "stream",
     "text": [
      "first coordinate: [12.0, 13.3]\n",
      "second element of first coordinate: 0.6\n"
     ]
    }
   ],
   "source": [
    "coordinates = [[12.0, 13.3], [0.6, 18.0], [88.0, 1.1]]  # lista de dimensão dois\n",
    "\n",
    "print('first coordinate: {}'.format(coordinates[0]))\n",
    "print('second element of first coordinate: {}'.format(coordinates[0][1]))\n",
    "print('first')"
   ]
  },
  {
   "cell_type": "markdown",
   "metadata": {},
   "source": [
    "### Dicionários\n",
    "\n",
    "- Os dicionários são definidos por pares de valores.\n",
    "- Cada par consiste numa chave e o elemento associado (portanto os indices são as chaves), ``par=(key:value) = (chave: elemento)``. \n",
    "- São estruturas *mutáveis* (podemos alterar /modificar). \n",
    "- Os elementos não são ordenados.\n",
    "- Representa-se usando ``{ }``\n",
    "- Algumas funções importantes para manipular dicionários: ``clear, copy, items, keys, values``\n"
   ]
  },
  {
   "cell_type": "code",
   "execution_count": 109,
   "metadata": {
    "ExecuteTime": {
     "end_time": "2023-09-02T19:46:56.933668Z",
     "start_time": "2023-09-02T19:46:56.918610Z"
    }
   },
   "outputs": [],
   "source": [
    "# exemplo de dicionário (2 chaves e 2 valores)\n",
    "d = {'key1':'entry1','key2':'entry2'}\n"
   ]
  },
  {
   "cell_type": "code",
   "execution_count": 110,
   "metadata": {
    "ExecuteTime": {
     "end_time": "2023-09-02T19:46:57.511761Z",
     "start_time": "2023-09-02T19:46:57.494726Z"
    }
   },
   "outputs": [
    {
     "name": "stdout",
     "output_type": "stream",
     "text": [
      "{'key1': 'entry1', 'key2': 'entry2'}\n"
     ]
    }
   ],
   "source": [
    "print(d)"
   ]
  },
  {
   "cell_type": "code",
   "execution_count": 111,
   "metadata": {
    "ExecuteTime": {
     "end_time": "2023-09-02T19:46:58.105588Z",
     "start_time": "2023-09-02T19:46:58.086589Z"
    }
   },
   "outputs": [
    {
     "data": {
      "text/plain": [
       "'entry2'"
      ]
     },
     "execution_count": 111,
     "metadata": {},
     "output_type": "execute_result"
    }
   ],
   "source": [
    "d['key2']"
   ]
  },
  {
   "cell_type": "code",
   "execution_count": 112,
   "metadata": {
    "ExecuteTime": {
     "end_time": "2023-09-02T19:46:58.620534Z",
     "start_time": "2023-09-02T19:46:58.614825Z"
    }
   },
   "outputs": [
    {
     "name": "stdout",
     "output_type": "stream",
     "text": [
      "dict_keys(['key1', 'key2'])\n"
     ]
    }
   ],
   "source": [
    "print(d.keys())"
   ]
  },
  {
   "cell_type": "code",
   "execution_count": 114,
   "metadata": {
    "ExecuteTime": {
     "end_time": "2023-09-02T19:46:59.165619Z",
     "start_time": "2023-09-02T19:46:59.150343Z"
    }
   },
   "outputs": [],
   "source": [
    "# definimos um dicionário com 7 pares (key:value)\n",
    "person_1 = {\n",
    "    'first_name':'Ana',\n",
    "    'last_name':'Silva',\n",
    "    'age':25,\n",
    "    'country':'portugal',\n",
    "    'is_marred':True,\n",
    "    'skills':['JavaScript', 'R', 'Julia', 'MongoDB', 'Python'],\n",
    "    'address':{\n",
    "        'street':'ISCTE',\n",
    "        'zipcode':'1600'\n",
    "    }\n",
    "}"
   ]
  },
  {
   "cell_type": "code",
   "execution_count": 115,
   "metadata": {
    "ExecuteTime": {
     "end_time": "2023-09-02T19:46:59.701375Z",
     "start_time": "2023-09-02T19:46:59.686351Z"
    }
   },
   "outputs": [
    {
     "name": "stdout",
     "output_type": "stream",
     "text": [
      "{'first_name': 'Ana', 'last_name': 'Silva', 'age': 25, 'country': 'portugal', 'is_marred': True, 'skills': ['JavaScript', 'R', 'Julia', 'MongoDB', 'Python'], 'address': {'street': 'ISCTE', 'zipcode': '1600'}}\n"
     ]
    }
   ],
   "source": [
    "# imprime o objecto Person1\n",
    "print(person_1)"
   ]
  },
  {
   "cell_type": "code",
   "execution_count": 116,
   "metadata": {
    "ExecuteTime": {
     "end_time": "2023-09-02T19:47:00.267283Z",
     "start_time": "2023-09-02T19:47:00.255252Z"
    }
   },
   "outputs": [
    {
     "name": "stdout",
     "output_type": "stream",
     "text": [
      "7\n"
     ]
    }
   ],
   "source": [
    "# o comprimento das chaves do objeto\n",
    "print(len(person_1))"
   ]
  },
  {
   "cell_type": "code",
   "execution_count": 119,
   "metadata": {
    "ExecuteTime": {
     "end_time": "2023-09-02T19:47:00.831083Z",
     "start_time": "2023-09-02T19:47:00.814314Z"
    }
   },
   "outputs": [
    {
     "name": "stdout",
     "output_type": "stream",
     "text": [
      "['JavaScript', 'R', 'Julia', 'MongoDB', 'Python']\n",
      "JavaScript\n"
     ]
    }
   ],
   "source": [
    "# isolar elementos do dicionário\n",
    "print(person_1['skills']) # retorna a lista que constitui o valor da chave 'skills'\n",
    "print(person_1['skills'][0])  # retorna o valor do índice 0"
   ]
  },
  {
   "cell_type": "code",
   "execution_count": 120,
   "metadata": {
    "ExecuteTime": {
     "end_time": "2023-09-02T19:47:01.391775Z",
     "start_time": "2023-09-02T19:47:01.374730Z"
    }
   },
   "outputs": [
    {
     "name": "stdout",
     "output_type": "stream",
     "text": [
      "{'first_name': 'Ana', 'last_name': 'Silva', 'age': 25, 'country': 'portugal', 'is_marred': True, 'skills': ['JavaScript', 'R', 'Julia', 'MongoDB', 'Python', 'HTML'], 'address': {'street': 'ISCTE', 'zipcode': '1600'}}\n"
     ]
    }
   ],
   "source": [
    "# acrescentar elementos no dicionário\n",
    "person_1['skills'].append('HTML')\n",
    "print(person_1)"
   ]
  },
  {
   "cell_type": "code",
   "execution_count": 121,
   "metadata": {
    "ExecuteTime": {
     "end_time": "2023-09-02T19:47:01.937889Z",
     "start_time": "2023-09-02T19:47:01.933889Z"
    }
   },
   "outputs": [
    {
     "name": "stdout",
     "output_type": "stream",
     "text": [
      "dict_items([('first_name', 'Ana'), ('last_name', 'Silva'), ('age', 25), ('country', 'portugal'), ('is_marred', True), ('skills', ['JavaScript', 'R', 'Julia', 'MongoDB', 'Python', 'HTML']), ('address', {'street': 'ISCTE', 'zipcode': '1600'})])\n"
     ]
    }
   ],
   "source": [
    "# Mudar um dicionário para uma lista de itens\n",
    "print(person_1.items())"
   ]
  },
  {
   "cell_type": "code",
   "execution_count": 122,
   "metadata": {
    "ExecuteTime": {
     "end_time": "2023-09-02T19:47:02.503968Z",
     "start_time": "2023-09-02T19:47:02.488971Z"
    }
   },
   "outputs": [
    {
     "name": "stdout",
     "output_type": "stream",
     "text": [
      "dict_keys(['first_name', 'last_name', 'age', 'country', 'is_marred', 'skills', 'address'])\n"
     ]
    }
   ],
   "source": [
    "# print apenas as chaves (keys)\n",
    "print(person_1.keys())"
   ]
  },
  {
   "cell_type": "code",
   "execution_count": 123,
   "metadata": {
    "ExecuteTime": {
     "end_time": "2023-09-02T19:47:03.377473Z",
     "start_time": "2023-09-02T19:47:03.366484Z"
    }
   },
   "outputs": [
    {
     "name": "stdout",
     "output_type": "stream",
     "text": [
      "dict_values(['Ana', 'Silva', 25, 'portugal', True, ['JavaScript', 'R', 'Julia', 'MongoDB', 'Python', 'HTML'], {'street': 'ISCTE', 'zipcode': '1600'}])\n"
     ]
    }
   ],
   "source": [
    "# print apenas os valores (values)\n",
    "print(person_1.values())"
   ]
  },
  {
   "cell_type": "markdown",
   "metadata": {},
   "source": [
    "### Tuples\n",
    "\n",
    "- Os **Tuples** (grupos/vetores) são *imutáveis*. Uma vez criados, não podem ser alterados.\n",
    "- Os **Tuples** definem-se entre `( )`, não confundir com as **listas** que se definem entre `[ ]`\n",
    "- Os elementos de um vetor são ordenados\n",
    "- Suportam todas as operações das sequências"
   ]
  },
  {
   "cell_type": "code",
   "execution_count": 124,
   "metadata": {
    "ExecuteTime": {
     "end_time": "2023-09-02T19:48:43.030949Z",
     "start_time": "2023-09-02T19:48:43.022849Z"
    }
   },
   "outputs": [],
   "source": [
    "# definir o tuple com o nome t e de entradas numéros inteiros\n",
    "t = (1,2,3)"
   ]
  },
  {
   "cell_type": "code",
   "execution_count": 125,
   "metadata": {
    "ExecuteTime": {
     "end_time": "2023-09-02T19:48:44.871043Z",
     "start_time": "2023-09-02T19:48:44.854611Z"
    }
   },
   "outputs": [
    {
     "name": "stdout",
     "output_type": "stream",
     "text": [
      "(1, 2, 3)\n"
     ]
    }
   ],
   "source": [
    "print(t)"
   ]
  },
  {
   "cell_type": "code",
   "execution_count": 126,
   "metadata": {
    "ExecuteTime": {
     "end_time": "2023-09-02T19:48:51.320743Z",
     "start_time": "2023-09-02T19:48:51.310539Z"
    }
   },
   "outputs": [
    {
     "data": {
      "text/plain": [
       "1"
      ]
     },
     "execution_count": 126,
     "metadata": {},
     "output_type": "execute_result"
    }
   ],
   "source": [
    "# ver o primeiro elemento do Tuple (tal como nas listas, o primeiro elemento tem índice zero - 0)\n",
    "t[0]"
   ]
  },
  {
   "cell_type": "code",
   "execution_count": 127,
   "metadata": {
    "ExecuteTime": {
     "end_time": "2023-09-02T19:49:10.438047Z",
     "start_time": "2023-09-02T19:49:10.431261Z"
    }
   },
   "outputs": [
    {
     "data": {
      "text/plain": [
       "(2, 5, 7, '4ss', 8)"
      ]
     },
     "execution_count": 127,
     "metadata": {},
     "output_type": "execute_result"
    }
   ],
   "source": [
    "# definir o vetor x\n",
    "x=(2,5,7,'4ss',8)\n",
    "x"
   ]
  },
  {
   "cell_type": "code",
   "execution_count": 128,
   "metadata": {
    "ExecuteTime": {
     "end_time": "2023-09-02T19:49:11.603125Z",
     "start_time": "2023-09-02T19:49:11.591124Z"
    }
   },
   "outputs": [
    {
     "ename": "TypeError",
     "evalue": "'tuple' object does not support item assignment",
     "output_type": "error",
     "traceback": [
      "\u001b[1;31m---------------------------------------------------------------------------\u001b[0m",
      "\u001b[1;31mTypeError\u001b[0m                                 Traceback (most recent call last)",
      "Cell \u001b[1;32mIn[128], line 1\u001b[0m\n\u001b[1;32m----> 1\u001b[0m x[\u001b[39m1\u001b[39;49m]\u001b[39m=\u001b[39m\u001b[39m10\u001b[39m\n",
      "\u001b[1;31mTypeError\u001b[0m: 'tuple' object does not support item assignment"
     ]
    }
   ],
   "source": [
    "# Dá erro porque os tuplos são imutáveis, não suporta este tipo de associação de valores\n",
    "x[1]=10"
   ]
  },
  {
   "cell_type": "code",
   "execution_count": 130,
   "metadata": {
    "ExecuteTime": {
     "end_time": "2023-09-02T19:50:16.117130Z",
     "start_time": "2023-09-02T19:50:16.105132Z"
    }
   },
   "outputs": [
    {
     "data": {
      "text/plain": [
       "(1, 2, [3, 10])"
      ]
     },
     "execution_count": 130,
     "metadata": {},
     "output_type": "execute_result"
    }
   ],
   "source": [
    "# definir o vetor y\n",
    "# tem como entradas 2 números inteiros e uma lista de inteiros\n",
    "y=(1,2,[3,10])\n",
    "y"
   ]
  },
  {
   "cell_type": "code",
   "execution_count": 131,
   "metadata": {
    "ExecuteTime": {
     "end_time": "2023-09-02T19:51:24.898715Z",
     "start_time": "2023-09-02T19:51:24.887744Z"
    }
   },
   "outputs": [
    {
     "data": {
      "text/plain": [
       "(1, 2, [23456, 10])"
      ]
     },
     "execution_count": 131,
     "metadata": {},
     "output_type": "execute_result"
    }
   ],
   "source": [
    "# no vetor y, no elemento de índice 2 (que é uma lista), entrada de indice 0 (da lista) vai ser substituída pelo valor 23456\n",
    "y[2][0]=23456\n",
    "y"
   ]
  },
  {
   "cell_type": "code",
   "execution_count": 132,
   "metadata": {
    "ExecuteTime": {
     "end_time": "2023-09-02T19:51:52.368422Z",
     "start_time": "2023-09-02T19:51:52.359700Z"
    }
   },
   "outputs": [
    {
     "data": {
      "text/plain": [
       "4"
      ]
     },
     "execution_count": 132,
     "metadata": {},
     "output_type": "execute_result"
    }
   ],
   "source": [
    "# contar a frequência do valor 2 no vetor x\n",
    "x = (1,2,3,4,5,6,2,10,2,11,12,2)\n",
    "\n",
    "x.count(2)"
   ]
  },
  {
   "cell_type": "code",
   "execution_count": 140,
   "metadata": {
    "ExecuteTime": {
     "end_time": "2023-09-02T19:52:07.924157Z",
     "start_time": "2023-09-02T19:52:07.918157Z"
    }
   },
   "outputs": [
    {
     "data": {
      "text/plain": [
       "0"
      ]
     },
     "execution_count": 140,
     "metadata": {},
     "output_type": "execute_result"
    }
   ],
   "source": [
    "x.index(1)"
   ]
  },
  {
   "cell_type": "code",
   "execution_count": 134,
   "metadata": {
    "ExecuteTime": {
     "end_time": "2023-09-02T19:52:27.615150Z",
     "start_time": "2023-09-02T19:52:27.607125Z"
    }
   },
   "outputs": [
    {
     "name": "stdout",
     "output_type": "stream",
     "text": [
      "('welcome', 21.223, 'hello world', 70.2)\n",
      "hello world\n"
     ]
    }
   ],
   "source": [
    "mytup = ( 'welcome', 21.223, \"hello world\", 70.2  )\n",
    "\n",
    "print(mytup)\n",
    "\n",
    "print(mytup[2]) ## mostra o terceiro valor do tuple, pois o índice começa em 0"
   ]
  },
  {
   "cell_type": "code",
   "execution_count": 135,
   "metadata": {
    "ExecuteTime": {
     "end_time": "2023-09-02T19:52:45.961680Z",
     "start_time": "2023-09-02T19:52:45.943682Z"
    }
   },
   "outputs": [
    {
     "name": "stdout",
     "output_type": "stream",
     "text": [
      "[5, 8, 35, 40]\n"
     ]
    }
   ],
   "source": [
    "# usar a função pré-definida 'sorted', que ordena o tuple (crescente, alfabeticamente)\n",
    "age = (40,35,8,5)\n",
    "\n",
    "s = sorted(age)\n",
    "\n",
    "print(s)\n"
   ]
  },
  {
   "cell_type": "code",
   "execution_count": 141,
   "metadata": {
    "ExecuteTime": {
     "end_time": "2023-09-02T19:52:49.597461Z",
     "start_time": "2023-09-02T19:52:49.590619Z"
    }
   },
   "outputs": [
    {
     "name": "stdout",
     "output_type": "stream",
     "text": [
      "['apple', 'grapes', 'orange']\n"
     ]
    }
   ],
   "source": [
    "## sortar os elementos\n",
    "fruit = (\"orange\",\"apple\",\"grapes\")\n",
    "f = sorted(fruit)\n",
    "print(f)   ## output is list\n"
   ]
  },
  {
   "cell_type": "code",
   "execution_count": 142,
   "metadata": {
    "ExecuteTime": {
     "end_time": "2023-09-02T19:53:08.078155Z",
     "start_time": "2023-09-02T19:53:08.062154Z"
    }
   },
   "outputs": [
    {
     "name": "stdout",
     "output_type": "stream",
     "text": [
      "('apple', 'grapes', 'orange')\n"
     ]
    }
   ],
   "source": [
    "f1 = sorted(fruit)\n",
    "print(tuple(f1))   # output is tuple"
   ]
  },
  {
   "cell_type": "code",
   "execution_count": 143,
   "metadata": {
    "ExecuteTime": {
     "end_time": "2023-09-02T19:54:18.222999Z",
     "start_time": "2023-09-02T19:54:18.215985Z"
    }
   },
   "outputs": [
    {
     "data": {
      "text/plain": [
       "(4, 5, 66, 9)"
      ]
     },
     "execution_count": 143,
     "metadata": {},
     "output_type": "execute_result"
    }
   ],
   "source": [
    "# definir uma lista x e transformor num vetor (tuple) y\n",
    "x=[4,5,66,9]\n",
    "y=tuple(x)\n",
    "y"
   ]
  },
  {
   "cell_type": "markdown",
   "metadata": {},
   "source": [
    "### Sets - Conjuntos\n",
    "\n",
    "- Os conjuntos são elementos definidos entres `{ }` (não confundir com os dicionários que são pares de valores). \n",
    "- São equivalentes ao conceito matemático de conjunto.\n",
    "- Os elementos de um conjunto são todos distintos, não tem índice e não são ordenados.\n",
    "- Operações possíveis para conjuntos:\n",
    "    - ``add, remove, union, intersection, difference, subset, disjoint set``."
   ]
  },
  {
   "cell_type": "code",
   "execution_count": 144,
   "metadata": {
    "ExecuteTime": {
     "end_time": "2023-09-02T19:55:36.485801Z",
     "start_time": "2023-09-02T19:55:36.478803Z"
    }
   },
   "outputs": [
    {
     "data": {
      "text/plain": [
       "{1, 2, 3}"
      ]
     },
     "execution_count": 144,
     "metadata": {},
     "output_type": "execute_result"
    }
   ],
   "source": [
    "{1,2,3}"
   ]
  },
  {
   "cell_type": "code",
   "execution_count": 145,
   "metadata": {
    "ExecuteTime": {
     "end_time": "2023-09-02T19:55:38.348658Z",
     "start_time": "2023-09-02T19:55:38.334644Z"
    }
   },
   "outputs": [
    {
     "data": {
      "text/plain": [
       "{1, 2, 3}"
      ]
     },
     "execution_count": 145,
     "metadata": {},
     "output_type": "execute_result"
    }
   ],
   "source": [
    "{1,2,3,1,2,1,2,3,3,3,3,2,2,2,1,1,2}"
   ]
  },
  {
   "cell_type": "code",
   "execution_count": null,
   "metadata": {
    "ExecuteTime": {
     "end_time": "2023-09-02T19:55:44.028167Z",
     "start_time": "2023-09-02T19:55:44.014143Z"
    }
   },
   "outputs": [],
   "source": [
    "# como os elementos de um conjunto são distintos (não se podem repetir) autoeliminam-se todas as repetições"
   ]
  },
  {
   "cell_type": "code",
   "execution_count": 146,
   "metadata": {
    "ExecuteTime": {
     "end_time": "2023-09-02T19:55:44.855611Z",
     "start_time": "2023-09-02T19:55:44.847113Z"
    }
   },
   "outputs": [
    {
     "data": {
      "text/plain": [
       "4"
      ]
     },
     "execution_count": 146,
     "metadata": {},
     "output_type": "execute_result"
    }
   ],
   "source": [
    "fruits = {'banana', 'orange', 'mango', 'lemon'}\n",
    "len(fruits)"
   ]
  },
  {
   "cell_type": "code",
   "execution_count": 147,
   "metadata": {
    "ExecuteTime": {
     "end_time": "2023-09-02T19:55:46.130544Z",
     "start_time": "2023-09-02T19:55:46.126564Z"
    }
   },
   "outputs": [
    {
     "name": "stdout",
     "output_type": "stream",
     "text": [
      "{'banana', 'orange', 'lemon', 'mango', 'apple'}\n"
     ]
    }
   ],
   "source": [
    "# adicionar um novo elemento ao conjunto 'fruits'\n",
    "fruits.add('apple')\n",
    "print(fruits)"
   ]
  },
  {
   "cell_type": "code",
   "execution_count": 148,
   "metadata": {
    "ExecuteTime": {
     "end_time": "2023-09-02T19:55:49.244264Z",
     "start_time": "2023-09-02T19:55:49.238196Z"
    }
   },
   "outputs": [
    {
     "name": "stdout",
     "output_type": "stream",
     "text": [
      "{'orange', 'lemon', 'mango', 'apple'}\n"
     ]
    }
   ],
   "source": [
    "# remover um elemento do conjunto\n",
    "fruits.remove('banana')\n",
    "print(fruits)"
   ]
  },
  {
   "cell_type": "code",
   "execution_count": 149,
   "metadata": {
    "ExecuteTime": {
     "end_time": "2023-09-02T19:55:52.624118Z",
     "start_time": "2023-09-02T19:55:52.618118Z"
    }
   },
   "outputs": [
    {
     "name": "stdout",
     "output_type": "stream",
     "text": [
      "{'a2', 'a7', 'a3', 'a8', 'a4', 'a6', 'a1', 'a5'}\n"
     ]
    }
   ],
   "source": [
    "# union - união de dois conjuntos\n",
    "st1 = {'a1', 'a2', 'a3', 'a4'}\n",
    "\n",
    "st2 = {'a5', 'a6', 'a7', 'a8'}\n",
    "\n",
    "st3 = st1.union(st2)\n",
    "print(st3)"
   ]
  },
  {
   "cell_type": "code",
   "execution_count": 151,
   "metadata": {
    "ExecuteTime": {
     "end_time": "2023-09-02T19:55:57.661829Z",
     "start_time": "2023-09-02T19:55:57.646677Z"
    }
   },
   "outputs": [
    {
     "name": "stdout",
     "output_type": "stream",
     "text": [
      "{0, 2, 4, 6, 8, 10}\n"
     ]
    }
   ],
   "source": [
    "# intersection - intersecção de dois conjuntos\n",
    "set1 = {0, 1, 2, 3, 4, 5, 6, 7, 8, 9, 10}   # números inteiros\n",
    "set2 = {0, 2, 4, 6, 8, 10}    # números inteiros pares\n",
    "result=set1.intersection(set2)   # intersecção\n",
    "print(result)"
   ]
  },
  {
   "cell_type": "code",
   "execution_count": 152,
   "metadata": {
    "ExecuteTime": {
     "end_time": "2023-09-02T19:55:58.517638Z",
     "start_time": "2023-09-02T19:55:58.510641Z"
    }
   },
   "outputs": [
    {
     "data": {
      "text/plain": [
       "{'d', 'r'}"
      ]
     },
     "execution_count": 152,
     "metadata": {},
     "output_type": "execute_result"
    }
   ],
   "source": [
    "# mostra cada x que está em na string 'abracadabra' de tal forma que x não seja nem 'a', 'b' ou 'c'\n",
    "a = {x for x in 'abracadabra' if x not in 'abc'}\n",
    "a"
   ]
  },
  {
   "cell_type": "code",
   "execution_count": 153,
   "metadata": {
    "ExecuteTime": {
     "end_time": "2023-09-02T19:56:06.395234Z",
     "start_time": "2023-09-02T19:56:06.374221Z"
    }
   },
   "outputs": [
    {
     "data": {
      "text/plain": [
       "{18, 21, 24, 27}"
      ]
     },
     "execution_count": 153,
     "metadata": {},
     "output_type": "execute_result"
    }
   ],
   "source": [
    "# multiplica por 3 cadax que esteja no range somente se x for maior que 5\n",
    "x={3*x for x in range(10) if x>5}\n",
    "x"
   ]
  },
  {
   "cell_type": "markdown",
   "metadata": {},
   "source": [
    "### Resumo"
   ]
  },
  {
   "cell_type": "code",
   "execution_count": 154,
   "metadata": {
    "ExecuteTime": {
     "end_time": "2023-09-03T11:57:17.304476Z",
     "start_time": "2023-09-03T11:57:17.292720Z"
    }
   },
   "outputs": [],
   "source": [
    "List = ['Milk', 'Bread', 'Eggs', 'Eggs', True, False, {}, (), ['a', 'b', 'c']] # as entradas podem ser constituídos por qualquer tipo de dados\n",
    "Tuples = ('Milk', 'Bread', 'Eggs')\n",
    "Sets = {'Milk', 'Bread', 'Eggs'}\n",
    "Diccionary = {'Milk':'Meio-Gordo','Bread':'Integral', 'Eggs':'Bio'} # cada entrada é composta por um par chave:valor\n",
    "String = \"Python for Everybody True\""
   ]
  },
  {
   "cell_type": "markdown",
   "metadata": {},
   "source": [
    "##  Operadores de comparação e Booleanos\n",
    "\n",
    "\n",
    "* Operadores de comparação: **<, <=, >, >=, ==, !=** (menor, menor igual, maior, maior iqual, igual, diferente)\n",
    "\n",
    "\n",
    "* Operadores Booleanos : **True, False**  "
   ]
  },
  {
   "cell_type": "code",
   "execution_count": 155,
   "metadata": {
    "ExecuteTime": {
     "end_time": "2023-09-02T19:57:59.257502Z",
     "start_time": "2023-09-02T19:57:59.238504Z"
    }
   },
   "outputs": [
    {
     "data": {
      "text/plain": [
       "False"
      ]
     },
     "execution_count": 155,
     "metadata": {},
     "output_type": "execute_result"
    }
   ],
   "source": [
    "1 == 2"
   ]
  },
  {
   "cell_type": "code",
   "execution_count": 156,
   "metadata": {
    "ExecuteTime": {
     "end_time": "2023-09-02T19:58:00.826778Z",
     "start_time": "2023-09-02T19:58:00.813776Z"
    }
   },
   "outputs": [
    {
     "data": {
      "text/plain": [
       "True"
      ]
     },
     "execution_count": 156,
     "metadata": {},
     "output_type": "execute_result"
    }
   ],
   "source": [
    "3.14 == 3.14"
   ]
  },
  {
   "cell_type": "code",
   "execution_count": 157,
   "metadata": {
    "ExecuteTime": {
     "end_time": "2023-09-02T19:58:01.650776Z",
     "start_time": "2023-09-02T19:58:01.638776Z"
    }
   },
   "outputs": [
    {
     "data": {
      "text/plain": [
       "False"
      ]
     },
     "execution_count": 157,
     "metadata": {},
     "output_type": "execute_result"
    }
   ],
   "source": [
    "'data_science' == 'ciência_de_dados'"
   ]
  },
  {
   "cell_type": "code",
   "execution_count": 158,
   "metadata": {
    "ExecuteTime": {
     "end_time": "2023-09-02T19:58:02.518775Z",
     "start_time": "2023-09-02T19:58:02.501776Z"
    }
   },
   "outputs": [
    {
     "data": {
      "text/plain": [
       "True"
      ]
     },
     "execution_count": 158,
     "metadata": {},
     "output_type": "execute_result"
    }
   ],
   "source": [
    "1 < 2"
   ]
  },
  {
   "cell_type": "code",
   "execution_count": 159,
   "metadata": {
    "ExecuteTime": {
     "end_time": "2023-09-02T19:58:03.230734Z",
     "start_time": "2023-09-02T19:58:03.213776Z"
    }
   },
   "outputs": [
    {
     "data": {
      "text/plain": [
       "True"
      ]
     },
     "execution_count": 159,
     "metadata": {},
     "output_type": "execute_result"
    }
   ],
   "source": [
    "1 <= 4"
   ]
  },
  {
   "cell_type": "code",
   "execution_count": 160,
   "metadata": {
    "ExecuteTime": {
     "end_time": "2023-09-02T19:58:04.036597Z",
     "start_time": "2023-09-02T19:58:04.024594Z"
    }
   },
   "outputs": [
    {
     "data": {
      "text/plain": [
       "True"
      ]
     },
     "execution_count": 160,
     "metadata": {},
     "output_type": "execute_result"
    }
   ],
   "source": [
    "1 >= 1"
   ]
  },
  {
   "cell_type": "code",
   "execution_count": 161,
   "metadata": {
    "ExecuteTime": {
     "end_time": "2023-09-02T19:58:04.829730Z",
     "start_time": "2023-09-02T19:58:04.816595Z"
    }
   },
   "outputs": [
    {
     "data": {
      "text/plain": [
       "False"
      ]
     },
     "execution_count": 161,
     "metadata": {},
     "output_type": "execute_result"
    }
   ],
   "source": [
    "1 > 2"
   ]
  },
  {
   "cell_type": "code",
   "execution_count": 162,
   "metadata": {
    "ExecuteTime": {
     "end_time": "2023-09-02T19:58:10.733848Z",
     "start_time": "2023-09-02T19:58:10.718787Z"
    }
   },
   "outputs": [
    {
     "name": "stdout",
     "output_type": "stream",
     "text": [
      "False\n",
      "True\n",
      "True\n"
     ]
    }
   ],
   "source": [
    "# vamos usar a função pré-definida 'len' que mede o comprimento da string\n",
    "print(len('mango') == len('avocado'))  # False\n",
    "print(len('mango') != len('avocado'))  # True\n",
    "print(len('mango') < len('avocado'))   # True"
   ]
  },
  {
   "cell_type": "markdown",
   "metadata": {},
   "source": [
    "## Operadores lógicos\n",
    "\n",
    "- Os operadores lógicos são : **and, or, not**"
   ]
  },
  {
   "cell_type": "code",
   "execution_count": 163,
   "metadata": {
    "ExecuteTime": {
     "end_time": "2023-09-02T20:00:07.677434Z",
     "start_time": "2023-09-02T20:00:07.667436Z"
    }
   },
   "outputs": [
    {
     "data": {
      "text/plain": [
       "False"
      ]
     },
     "execution_count": 163,
     "metadata": {},
     "output_type": "execute_result"
    }
   ],
   "source": [
    "# Retorna True se as duas operações são verdadeiras (and)\n",
    "\n",
    "(1 > 2) and (2 < 3)"
   ]
  },
  {
   "cell_type": "code",
   "execution_count": 164,
   "metadata": {
    "ExecuteTime": {
     "end_time": "2023-09-02T20:00:08.289434Z",
     "start_time": "2023-09-02T20:00:08.280437Z"
    }
   },
   "outputs": [
    {
     "data": {
      "text/plain": [
       "True"
      ]
     },
     "execution_count": 164,
     "metadata": {},
     "output_type": "execute_result"
    }
   ],
   "source": [
    "# Retorna True se pelo menos uma das relações é verdadeira (or)\n",
    "\n",
    "(1 > 2) or (2 < 3)"
   ]
  },
  {
   "cell_type": "code",
   "execution_count": 165,
   "metadata": {
    "ExecuteTime": {
     "end_time": "2023-09-02T20:00:12.104843Z",
     "start_time": "2023-09-02T20:00:12.086801Z"
    }
   },
   "outputs": [
    {
     "data": {
      "text/plain": [
       "True"
      ]
     },
     "execution_count": 165,
     "metadata": {},
     "output_type": "execute_result"
    }
   ],
   "source": [
    "(1 == 2) or (2 == 3) or (4 == 4)"
   ]
  },
  {
   "cell_type": "code",
   "execution_count": 166,
   "metadata": {
    "ExecuteTime": {
     "end_time": "2023-09-02T20:01:11.000174Z",
     "start_time": "2023-09-02T20:01:10.983171Z"
    }
   },
   "outputs": [
    {
     "data": {
      "text/plain": [
       "True"
      ]
     },
     "execution_count": 166,
     "metadata": {},
     "output_type": "execute_result"
    }
   ],
   "source": [
    "# Retorna True se a operação é falsa, ou retorna False se a operação é verdadeira (negação not).\n",
    "\n",
    "not (2 == 3)"
   ]
  },
  {
   "cell_type": "markdown",
   "metadata": {},
   "source": [
    "## Exercícios"
   ]
  },
  {
   "cell_type": "markdown",
   "metadata": {},
   "source": [
    "1. Compute 4 elevate at 12.\n",
    "\n",
    "2. Write an equation that uses multiplication, division, an exponent, addition, and subtraction that is equal to 100.25.\n",
    "\n",
    "3. Answer these 3 questions without typing code. Then type code to check your answer.\n",
    "\n",
    "    (a) What is the value of the expression `4 * (6 + 5)`\n",
    "\n",
    "    (b) What is the value of the expression `4 * 6 + 5` \n",
    "\n",
    "    (c) What is the value of the expression `4 + 6 * 5` \n",
    "\n",
    "4. What is the type of the result of the expression `3 + 1.5 + 4`?\n",
    "\n",
    "5. Given the string 'hello' give an index command that returns 'e'. \n",
    "\n",
    "6. Given the string hello, give two methods of producing the letter 'o' using indexing.\n",
    "\n",
    "7. Given the following list, `lst = [1,2,[3,4],[5,[100,200,['hello']],23,11],1,7]`, and using indexing, isolate the word `'hello'`.\n",
    "\n",
    "8. Using keys and indexing, grab the 'hello' from the following dictionaries: `d = {'simple_key':'hello'}`\n",
    "\n",
    "9. What is the major difference between tuples and lists?\n",
    "\n",
    "10. Use a set to find the unique values of the list below: `list5 = [1,2,2,33,4,4,11,22,3,3,2]`"
   ]
  },
  {
   "cell_type": "code",
   "execution_count": 167,
   "metadata": {},
   "outputs": [
    {
     "data": {
      "text/plain": [
       "16777216"
      ]
     },
     "execution_count": 167,
     "metadata": {},
     "output_type": "execute_result"
    }
   ],
   "source": [
    "# 1.\n",
    "\n",
    "4**12"
   ]
  },
  {
   "cell_type": "code",
   "execution_count": 169,
   "metadata": {},
   "outputs": [
    {
     "data": {
      "text/plain": [
       "20"
      ]
     },
     "execution_count": 169,
     "metadata": {},
     "output_type": "execute_result"
    }
   ],
   "source": [
    "# 2.\n",
    "\n",
    "2**2 * 5 %\n"
   ]
  }
 ],
 "metadata": {
  "anaconda-cloud": {},
  "hide_input": false,
  "kernelspec": {
   "display_name": "Python 3 (ipykernel)",
   "language": "python",
   "name": "python3"
  },
  "language_info": {
   "codemirror_mode": {
    "name": "ipython",
    "version": 3
   },
   "file_extension": ".py",
   "mimetype": "text/x-python",
   "name": "python",
   "nbconvert_exporter": "python",
   "pygments_lexer": "ipython3",
   "version": "3.11.4"
  },
  "latex_envs": {
   "LaTeX_envs_menu_present": true,
   "autoclose": false,
   "autocomplete": true,
   "bibliofile": "biblio.bib",
   "cite_by": "apalike",
   "current_citInitial": 1,
   "eqLabelWithNumbers": true,
   "eqNumInitial": 1,
   "hotkeys": {
    "equation": "Ctrl-E",
    "itemize": "Ctrl-I"
   },
   "labels_anchors": false,
   "latex_user_defs": false,
   "report_style_numbering": false,
   "user_envs_cfg": false
  },
  "nbTranslate": {
   "displayLangs": [
    "*"
   ],
   "hotkey": "alt-t",
   "langInMainMenu": true,
   "sourceLang": "en",
   "targetLang": "fr",
   "useGoogleTranslate": true
  },
  "toc": {
   "base_numbering": 1,
   "nav_menu": {},
   "number_sections": true,
   "sideBar": true,
   "skip_h1_title": false,
   "title_cell": "Table of Contents",
   "title_sidebar": "Contents",
   "toc_cell": false,
   "toc_position": {},
   "toc_section_display": true,
   "toc_window_display": false
  },
  "varInspector": {
   "cols": {
    "lenName": 16,
    "lenType": 16,
    "lenVar": 40
   },
   "kernels_config": {
    "python": {
     "delete_cmd_postfix": "",
     "delete_cmd_prefix": "del ",
     "library": "var_list.py",
     "varRefreshCmd": "print(var_dic_list())"
    },
    "r": {
     "delete_cmd_postfix": ") ",
     "delete_cmd_prefix": "rm(",
     "library": "var_list.r",
     "varRefreshCmd": "cat(var_dic_list()) "
    }
   },
   "types_to_exclude": [
    "module",
    "function",
    "builtin_function_or_method",
    "instance",
    "_Feature"
   ],
   "window_display": false
  }
 },
 "nbformat": 4,
 "nbformat_minor": 1
}
